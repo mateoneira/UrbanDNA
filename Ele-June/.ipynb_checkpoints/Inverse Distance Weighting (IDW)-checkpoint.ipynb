{
 "cells": [
  {
   "cell_type": "code",
   "execution_count": 3,
   "metadata": {
    "collapsed": true
   },
   "outputs": [],
   "source": [
    "from math import pow\n",
    "from math import sqrt\n",
    "import numpy as np\n",
    "import matplotlib.pyplot as plt"
   ]
  },
  {
   "cell_type": "markdown",
   "metadata": {},
   "source": [
    "The cell below is a home made function for calculating z (point value)\n",
    "http://www.gdal.org/grid_tutorial.html\n",
    "formula--\n",
    "\n",
    "z = \\frac{\\frac{zi}{ri_p}}{\\frac{1}{ri_p}}"
   ]
  },
  {
   "cell_type": "code",
   "execution_count": null,
   "metadata": {
    "collapsed": true
   },
   "outputs": [],
   "source": [
    "def pointValue(x,y,power,smoothing,xv,yv,values):\n",
    "    nominator=0\n",
    "    denominator=0\n",
    "    for i in range(0,len(values)):\n",
    "        dist = sqrt((x-xv[i])*(x-xv[i])+(y-yv[i])*(y-yv[i])+smoothing*smoothing);\n",
    "        #If the point is really close to one of the data points, return the data point value to avoid singularities\n",
    "        if(dist<0.0000000001):\n",
    "            return values[i]\n",
    "        nominator=nominator+(values[i]/pow(dist,power))\n",
    "        denominator=denominator+(1/pow(dist,power))\n",
    "    #Return NODATA if the denominator is zero\n",
    "    if denominator > 0:\n",
    "        value = nominator/denominator\n",
    "    else:\n",
    "        value = -9999\n",
    "    return value"
   ]
  },
  {
   "cell_type": "code",
   "execution_count": null,
   "metadata": {
    "collapsed": true
   },
   "outputs": [],
   "source": [
    "def invDist(xv,yv,values,xsize=100,ysize=100,power=2,smoothing=0):\n",
    "    valuesGrid = np.zeros((ysize,xsize))\n",
    "    for x in range(0,xsize):\n",
    "        for y in range(0,ysize):\n",
    "            valuesGrid[y][x] = pointValue(x,y,power,smoothing,xv,yv,values)\n",
    "    return valuesGrid\n",
    "    \n",
    "\n",
    "if __name__ == \"__main__\":\n",
    "    power=1\n",
    "    smoothing=20\n",
    "\n",
    "    #Creating some data, with each coodinate and the values stored in separated lists\n",
    "    xv = [10,60,40,70,10,50,20,70,30,60]\n",
    "    yv = [10,20,30,30,40,50,60,70,80,90]\n",
    "    values = [1,2,2,3,4,6,7,7,8,10]\n",
    "    \n",
    "    #Creating the output grid (100x100, in the example)\n",
    "    ti = np.linspace(0, 100, 100)\n",
    "    XI, YI = np.meshgrid(ti, ti)\n",
    "\n",
    "    #Creating the interpolation function and populating the output matrix value\n",
    "    ZI = invDist(xv,yv,values,100,100,power,smoothing)\n",
    "\n",
    "\n",
    "    # Plotting the result\n",
    "    n = plt.normalize(0.0, 100.0)\n",
    "    plt.subplot(1, 1, 1)\n",
    "    plt.pcolor(XI, YI, ZI)\n",
    "    plt.scatter(xv, yv, 100, values)\n",
    "    plt.title('Inv dist interpolation - power: ' + str(power) + ' smoothing: ' + str(smoothing))\n",
    "    plt.xlim(0, 100)\n",
    "    plt.ylim(0, 100)\n",
    "    plt.colorbar()\n",
    "\n",
    "    plt.show()\n",
    "    "
   ]
  }
 ],
 "metadata": {
  "kernelspec": {
   "display_name": "Python 3",
   "language": "python",
   "name": "python3"
  },
  "language_info": {
   "codemirror_mode": {
    "name": "ipython",
    "version": 3
   },
   "file_extension": ".py",
   "mimetype": "text/x-python",
   "name": "python",
   "nbconvert_exporter": "python",
   "pygments_lexer": "ipython3",
   "version": "3.6.0"
  }
 },
 "nbformat": 4,
 "nbformat_minor": 2
}
