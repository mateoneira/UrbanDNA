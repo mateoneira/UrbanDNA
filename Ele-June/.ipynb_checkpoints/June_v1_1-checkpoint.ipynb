{
 "cells": [
  {
   "cell_type": "markdown",
   "metadata": {},
   "source": [
    "Task of this notebook:\n",
    "1. interpolate data (use tdal data as example... function)"
   ]
  },
  {
   "cell_type": "code",
   "execution_count": 1,
   "metadata": {
    "collapsed": true
   },
   "outputs": [],
   "source": [
    "# libraries\n",
    "import json\n",
    "import pandas as pd\n",
    "import os\n",
    "import requests\n",
    "import numpy as np\n",
    "import matplotlib.pyplot as plt\n",
    "import seaborn as sns\n",
    "import xlrd\n",
    "from scipy import interpolate"
   ]
  },
  {
   "cell_type": "code",
   "execution_count": 2,
   "metadata": {
    "collapsed": false
   },
   "outputs": [
    {
     "data": {
      "text/html": [
       "<div>\n",
       "<table border=\"1\" class=\"dataframe\">\n",
       "  <thead>\n",
       "    <tr style=\"text-align: right;\">\n",
       "      <th></th>\n",
       "      <th>COA2011</th>\n",
       "      <th>AvPTAI2015</th>\n",
       "      <th>PTAL</th>\n",
       "      <th>PTAIHigh</th>\n",
       "      <th>PTAILow</th>\n",
       "    </tr>\n",
       "  </thead>\n",
       "  <tbody>\n",
       "    <tr>\n",
       "      <th>0</th>\n",
       "      <td>E00000001</td>\n",
       "      <td>51.8576</td>\n",
       "      <td>6b</td>\n",
       "      <td>51.8576</td>\n",
       "      <td>51.8576</td>\n",
       "    </tr>\n",
       "    <tr>\n",
       "      <th>1</th>\n",
       "      <td>E00000003</td>\n",
       "      <td>49.8750</td>\n",
       "      <td>6b</td>\n",
       "      <td>49.8750</td>\n",
       "      <td>49.8750</td>\n",
       "    </tr>\n",
       "    <tr>\n",
       "      <th>2</th>\n",
       "      <td>E00000005</td>\n",
       "      <td>59.1269</td>\n",
       "      <td>6b</td>\n",
       "      <td>59.1269</td>\n",
       "      <td>59.1269</td>\n",
       "    </tr>\n",
       "    <tr>\n",
       "      <th>3</th>\n",
       "      <td>E00000007</td>\n",
       "      <td>82.9036</td>\n",
       "      <td>6b</td>\n",
       "      <td>97.4435</td>\n",
       "      <td>68.2293</td>\n",
       "    </tr>\n",
       "    <tr>\n",
       "      <th>4</th>\n",
       "      <td>E00000010</td>\n",
       "      <td>43.0317</td>\n",
       "      <td>6b</td>\n",
       "      <td>43.0317</td>\n",
       "      <td>43.0317</td>\n",
       "    </tr>\n",
       "  </tbody>\n",
       "</table>\n",
       "</div>"
      ],
      "text/plain": [
       "     COA2011  AvPTAI2015 PTAL  PTAIHigh  PTAILow\n",
       "0  E00000001     51.8576   6b   51.8576  51.8576\n",
       "1  E00000003     49.8750   6b   49.8750  49.8750\n",
       "2  E00000005     59.1269   6b   59.1269  59.1269\n",
       "3  E00000007     82.9036   6b   97.4435  68.2293\n",
       "4  E00000010     43.0317   6b   43.0317  43.0317"
      ]
     },
     "execution_count": 2,
     "metadata": {},
     "output_type": "execute_result"
    }
   ],
   "source": [
    "# read in PTAL data.\n",
    "PTAL = pd.read_csv(\"/Users/June/urbanDNA/Ele-June/June's Data/COA2011 AvPTAI2015.csv\")\n",
    "PTAL.head()"
   ]
  },
  {
   "cell_type": "code",
   "execution_count": 5,
   "metadata": {
    "collapsed": false
   },
   "outputs": [
    {
     "data": {
      "text/html": [
       "<div>\n",
       "<table border=\"1\" class=\"dataframe\">\n",
       "  <thead>\n",
       "    <tr style=\"text-align: right;\">\n",
       "      <th></th>\n",
       "      <th>ID</th>\n",
       "      <th>X</th>\n",
       "      <th>Y</th>\n",
       "      <th>AI2015</th>\n",
       "    </tr>\n",
       "  </thead>\n",
       "  <tbody>\n",
       "    <tr>\n",
       "      <th>count</th>\n",
       "      <td>65499.000000</td>\n",
       "      <td>65499.000000</td>\n",
       "      <td>65499.000000</td>\n",
       "      <td>65499.000000</td>\n",
       "    </tr>\n",
       "    <tr>\n",
       "      <th>mean</th>\n",
       "      <td>32750.000000</td>\n",
       "      <td>531527.316005</td>\n",
       "      <td>169456.165483</td>\n",
       "      <td>7.233324</td>\n",
       "    </tr>\n",
       "    <tr>\n",
       "      <th>std</th>\n",
       "      <td>18908.076978</td>\n",
       "      <td>11592.483381</td>\n",
       "      <td>5327.660434</td>\n",
       "      <td>8.506547</td>\n",
       "    </tr>\n",
       "    <tr>\n",
       "      <th>min</th>\n",
       "      <td>1.000000</td>\n",
       "      <td>503596.000000</td>\n",
       "      <td>155898.000000</td>\n",
       "      <td>0.000000</td>\n",
       "    </tr>\n",
       "    <tr>\n",
       "      <th>25%</th>\n",
       "      <td>16375.500000</td>\n",
       "      <td>522845.000000</td>\n",
       "      <td>165352.000000</td>\n",
       "      <td>1.793474</td>\n",
       "    </tr>\n",
       "    <tr>\n",
       "      <th>50%</th>\n",
       "      <td>32750.000000</td>\n",
       "      <td>532145.000000</td>\n",
       "      <td>170152.000000</td>\n",
       "      <td>4.852556</td>\n",
       "    </tr>\n",
       "    <tr>\n",
       "      <th>75%</th>\n",
       "      <td>49124.500000</td>\n",
       "      <td>541345.000000</td>\n",
       "      <td>174052.000000</td>\n",
       "      <td>9.885432</td>\n",
       "    </tr>\n",
       "    <tr>\n",
       "      <th>max</th>\n",
       "      <td>65499.000000</td>\n",
       "      <td>553654.000000</td>\n",
       "      <td>177452.000000</td>\n",
       "      <td>92.987122</td>\n",
       "    </tr>\n",
       "  </tbody>\n",
       "</table>\n",
       "</div>"
      ],
      "text/plain": [
       "                 ID              X              Y        AI2015\n",
       "count  65499.000000   65499.000000   65499.000000  65499.000000\n",
       "mean   32750.000000  531527.316005  169456.165483      7.233324\n",
       "std    18908.076978   11592.483381    5327.660434      8.506547\n",
       "min        1.000000  503596.000000  155898.000000      0.000000\n",
       "25%    16375.500000  522845.000000  165352.000000      1.793474\n",
       "50%    32750.000000  532145.000000  170152.000000      4.852556\n",
       "75%    49124.500000  541345.000000  174052.000000      9.885432\n",
       "max    65499.000000  553654.000000  177452.000000     92.987122"
      ]
     },
     "execution_count": 5,
     "metadata": {},
     "output_type": "execute_result"
    }
   ],
   "source": [
    "# well.. the grid version is more poised for interpolation\n",
    "PTAL.grid =pd.read_csv(\"/Users/June/urbanDNA/Ele-June/June's Data/2015  PTALs Grid Values 280515.csv\")\n",
    "PTAL.grid\n",
    "# use the Accessiility Index 2015 (AI2015) bc it is numerical variable. \n",
    "# PTAL.grid.dtypes\n",
    "PTAL.grid.describe()\n"
   ]
  },
  {
   "cell_type": "code",
   "execution_count": 7,
   "metadata": {
    "collapsed": false
   },
   "outputs": [
    {
     "data": {
      "text/plain": [
       "503596"
      ]
     },
     "execution_count": 7,
     "metadata": {},
     "output_type": "execute_result"
    }
   ],
   "source": [
    "min(PTAL.grid['X']) #"
   ]
  },
  {
   "cell_type": "code",
   "execution_count": null,
   "metadata": {
    "collapsed": false
   },
   "outputs": [],
   "source": [
    "# x = np.arange(min(PTAL.grid['X'])-1, max(PTAL.grid['X'])+1, 1)\n",
    "# y = np.arange(min(PTAL.grid['Y'])-1, max(PTAL.grid['Y'])+1, 1)\n",
    "# xx, yy = np.meshgrid(PTAL.grid['X'], PTAL.grid['Y'])\n",
    "x = PTAL.grid['X']\n",
    "y = PTAL.grid['Y']\n",
    "z = PTAL.grid['AI2015']\n",
    "f = interpolate.RectBivariateSpline(x, y, z)"
   ]
  },
  {
   "cell_type": "code",
   "execution_count": null,
   "metadata": {
    "collapsed": true
   },
   "outputs": [],
   "source": []
  }
 ],
 "metadata": {
  "kernelspec": {
   "display_name": "Python 3",
   "language": "python",
   "name": "python3"
  },
  "language_info": {
   "codemirror_mode": {
    "name": "ipython",
    "version": 3
   },
   "file_extension": ".py",
   "mimetype": "text/x-python",
   "name": "python",
   "nbconvert_exporter": "python",
   "pygments_lexer": "ipython3",
   "version": "3.6.0"
  }
 },
 "nbformat": 4,
 "nbformat_minor": 2
}
