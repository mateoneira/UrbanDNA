{
 "cells": [
  {
   "cell_type": "markdown",
   "metadata": {},
   "source": [
    "Task of this notebook:\n",
    "1. interpolate data (use tdal data as example... function)... \n",
    "    -- Inverse Distance Weighting (gonna try this first and compare with the result produced from R)\n",
    "    -- spline\n",
    "    -- krigging"
   ]
  },
  {
   "cell_type": "code",
   "execution_count": null,
   "metadata": {
    "collapsed": true
   },
   "outputs": [],
   "source": [
    "# libraries\n",
    "import json\n",
    "import pandas as pd\n",
    "import os\n",
    "import requests\n",
    "import numpy as np\n",
    "import matplotlib.pyplot as plt\n",
    "import seaborn as sns\n",
    "import xlrd\n",
    "from scipy import interpolate\n",
    "from scipy.interpolate import RectBivariateSpline"
   ]
  },
  {
   "cell_type": "code",
   "execution_count": 62,
   "metadata": {
    "collapsed": false
   },
   "outputs": [],
   "source": [
    "# read in PTAL data.\n",
    "# PTAL = pd.read_csv(\"/Users/June/urbanDNA/Ele-June/June's Data/COA2011 AvPTAI2015.csv\")\n",
    "# PTAL.head()"
   ]
  },
  {
   "cell_type": "code",
   "execution_count": 71,
   "metadata": {
    "collapsed": false
   },
   "outputs": [
    {
     "data": {
      "text/html": [
       "<div>\n",
       "<table border=\"1\" class=\"dataframe\">\n",
       "  <thead>\n",
       "    <tr style=\"text-align: right;\">\n",
       "      <th></th>\n",
       "      <th>ID</th>\n",
       "      <th>X</th>\n",
       "      <th>Y</th>\n",
       "      <th>AI2015</th>\n",
       "      <th>PTAL2015</th>\n",
       "    </tr>\n",
       "  </thead>\n",
       "  <tbody>\n",
       "    <tr>\n",
       "      <th>0</th>\n",
       "      <td>1</td>\n",
       "      <td>530870</td>\n",
       "      <td>155930</td>\n",
       "      <td>0.0</td>\n",
       "      <td>0</td>\n",
       "    </tr>\n",
       "    <tr>\n",
       "      <th>1</th>\n",
       "      <td>2</td>\n",
       "      <td>530945</td>\n",
       "      <td>155898</td>\n",
       "      <td>0.0</td>\n",
       "      <td>0</td>\n",
       "    </tr>\n",
       "    <tr>\n",
       "      <th>2</th>\n",
       "      <td>3</td>\n",
       "      <td>531045</td>\n",
       "      <td>155898</td>\n",
       "      <td>0.0</td>\n",
       "      <td>0</td>\n",
       "    </tr>\n",
       "    <tr>\n",
       "      <th>3</th>\n",
       "      <td>4</td>\n",
       "      <td>531145</td>\n",
       "      <td>155898</td>\n",
       "      <td>0.0</td>\n",
       "      <td>0</td>\n",
       "    </tr>\n",
       "    <tr>\n",
       "      <th>4</th>\n",
       "      <td>5</td>\n",
       "      <td>531245</td>\n",
       "      <td>155898</td>\n",
       "      <td>0.0</td>\n",
       "      <td>0</td>\n",
       "    </tr>\n",
       "  </tbody>\n",
       "</table>\n",
       "</div>"
      ],
      "text/plain": [
       "   ID       X       Y  AI2015 PTAL2015\n",
       "0   1  530870  155930     0.0        0\n",
       "1   2  530945  155898     0.0        0\n",
       "2   3  531045  155898     0.0        0\n",
       "3   4  531145  155898     0.0        0\n",
       "4   5  531245  155898     0.0        0"
      ]
     },
     "execution_count": 71,
     "metadata": {},
     "output_type": "execute_result"
    }
   ],
   "source": [
    "# well.. the grid version is more poised for interpolation. #however, it only yields half of London\n",
    "# hence need to check data source. \n",
    "PTAL_grid =pd.read_csv(\"/Users/June/urbanDNA/Ele-June/June's Data/2015  PTALs Grid Values 280515.csv\")\n",
    "PTAL_grid.head()\n",
    "# use the Accessiility Index 2015 (AI2015) bc it is numerical variable. \n",
    "# PTAL.grid.dtypes\n",
    "# PTAL.grid.describe()\n"
   ]
  },
  {
   "cell_type": "code",
   "execution_count": 72,
   "metadata": {
    "collapsed": false
   },
   "outputs": [],
   "source": [
    "## to put it in a grid.\n",
    "# PTAL.grid.pivot(index='Y', columns='X', values='AI2015')"
   ]
  },
  {
   "cell_type": "code",
   "execution_count": 73,
   "metadata": {
    "collapsed": false
   },
   "outputs": [],
   "source": [
    "# To produce the grid to interplot on\n",
    "x = np.arange(min(PTAL_grid['X']), max(PTAL_grid['X']), 1)\n",
    "y = np.arange(min(PTAL_grid['Y']), max(PTAL_grid['Y']), 1)\n",
    "xx, yy = np.meshgrid(x,y, sparse=True)\n"
   ]
  },
  {
   "cell_type": "code",
   "execution_count": 74,
   "metadata": {
    "collapsed": true
   },
   "outputs": [],
   "source": [
    "# These code are from http://geoexamples.blogspot.co.uk/2012/05/creating-grid-from-scattered-data-using.html\n",
    "from math import pow\n",
    "from math import sqrt\n",
    "import numpy as np\n",
    "import matplotlib.pyplot as plt\n",
    "\n",
    "# xv, yv, values are all corresponding to the same same dot at the same time. three arrays of the same length.\n",
    "def pointValue(x,y,power,smoothing,xv,yv,values):\n",
    "    nominator=0\n",
    "    denominator=0\n",
    "    for i in range(0,len(values)):\n",
    "        dist = sqrt((x-xv[i])*(x-xv[i])+(y-yv[i])*(y-yv[i])+smoothing*smoothing);\n",
    "        #If the point is really close to one of the data points, return the data point value to avoid singularities\n",
    "        if(dist<0.0000000001):\n",
    "            return values[i]\n",
    "        nominator=nominator+(values[i]/pow(dist,power))\n",
    "        denominator=denominator+(1/pow(dist,power))\n",
    "    #Return NODATA if the denominator is zero\n",
    "    if denominator > 0:\n",
    "        value = nominator/denominator\n",
    "    else:\n",
    "        value = -9999\n",
    "    return value\n",
    "\n",
    "# returns value for one grid\n",
    "\n",
    "def invDist(xv,yv,values,xsize=100,ysize=100,power=2,smoothing=0):\n",
    "    valuesGrid = np.zeros((ysize,xsize))\n",
    "    for x in range(0,xsize):\n",
    "        for y in range(0,ysize):\n",
    "            valuesGrid[y][x] = pointValue(x,y,power,smoothing,xv,yv,values)\n",
    "    return valuesGrid\n",
    "\n",
    "# returns a matrix filled with value calculated from the method above"
   ]
  },
  {
   "cell_type": "code",
   "execution_count": null,
   "metadata": {
    "collapsed": false
   },
   "outputs": [],
   "source": [
    "power = 1\n",
    "smoothing=20\n",
    "\n",
    "#Creating some data, with each coodinate and the values stored in separated lists\n",
    "xv = PTAL_grid['X']\n",
    "yv = PTAL_grid['Y']\n",
    "values = PTAL_grid['AI2015']\n",
    "\n",
    "\n",
    "\n",
    "#Creating the interpolation function and populating the output matrix value\n",
    "ZI = invDist(xv,yv,values,len(x),len(y),power,smoothing)\n",
    "\n",
    "\n",
    "# Plotting the result\n",
    "n = plt.Normalize(0.0, 100.0)\n",
    "plt.subplot(1, 1, 1)\n",
    "plt.pcolor(XI, YI, ZI)\n",
    "plt.scatter(xv, yv, 100, values)\n",
    "plt.title('Inv dist interpolation - power: ' + str(power) + ' smoothing: ' + str(smoothing))\n",
    "plt.xlim(0, 100)\n",
    "plt.ylim(0, 100)\n",
    "plt.colorbar()\n",
    "\n",
    "plt.show()"
   ]
  },
  {
   "cell_type": "code",
   "execution_count": null,
   "metadata": {
    "collapsed": false
   },
   "outputs": [],
   "source": []
  },
  {
   "cell_type": "code",
   "execution_count": 52,
   "metadata": {
    "collapsed": false
   },
   "outputs": [],
   "source": []
  },
  {
   "cell_type": "code",
   "execution_count": null,
   "metadata": {
    "collapsed": false
   },
   "outputs": [],
   "source": []
  },
  {
   "cell_type": "code",
   "execution_count": null,
   "metadata": {
    "collapsed": true
   },
   "outputs": [],
   "source": []
  }
 ],
 "metadata": {
  "kernelspec": {
   "display_name": "Python 3",
   "language": "python",
   "name": "python3"
  },
  "language_info": {
   "codemirror_mode": {
    "name": "ipython",
    "version": 3
   },
   "file_extension": ".py",
   "mimetype": "text/x-python",
   "name": "python",
   "nbconvert_exporter": "python",
   "pygments_lexer": "ipython3",
   "version": "3.6.0"
  }
 },
 "nbformat": 4,
 "nbformat_minor": 2
}
