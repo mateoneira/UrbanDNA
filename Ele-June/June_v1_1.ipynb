{
 "cells": [
  {
   "cell_type": "markdown",
   "metadata": {},
   "source": [
    "Task of this notebook:\n",
    "1. interpolate data (use tdal data as example... function)... \n",
    "    -- Inverse Distance Weighting (gonna try this first and compare with the result produced from R)\n",
    "    -- spline\n",
    "    -- krigging"
   ]
  },
  {
   "cell_type": "code",
   "execution_count": null,
   "metadata": {
    "collapsed": true
   },
   "outputs": [],
   "source": [
    "# libraries\n",
    "import json\n",
    "import pandas as pd\n",
    "import os\n",
    "import requests\n",
    "import numpy as np\n",
    "import matplotlib.pyplot as plt\n",
    "import seaborn as sns\n",
    "import xlrd\n",
    "from scipy import interpolate\n",
    "from scipy.interpolate import RectBivariateSpline"
   ]
  },
  {
   "cell_type": "code",
<<<<<<< HEAD
   "execution_count": 62,
   "metadata": {
    "collapsed": false
   },
   "outputs": [],
   "source": [
    "# read in PTAL data.\n",
    "# PTAL = pd.read_csv(\"/Users/June/urbanDNA/Ele-June/June's Data/COA2011 AvPTAI2015.csv\")\n",
    "# PTAL.head()"
   ]
  },
  {
   "cell_type": "code",
   "execution_count": 71,
=======
   "execution_count": 107,
>>>>>>> 6be01654a7ee49ef3a2054644cb3a4108c2cabbf
   "metadata": {
    "collapsed": false
   },
   "outputs": [
    {
     "data": {
      "text/html": [
       "<div>\n",
       "<table border=\"1\" class=\"dataframe\">\n",
       "  <thead>\n",
       "    <tr style=\"text-align: right;\">\n",
       "      <th></th>\n",
       "      <th>ID</th>\n",
       "      <th>X</th>\n",
       "      <th>Y</th>\n",
       "      <th>AI2015</th>\n",
       "      <th>PTAL2015</th>\n",
       "    </tr>\n",
       "  </thead>\n",
       "  <tbody>\n",
       "    <tr>\n",
       "      <th>0</th>\n",
       "      <td>1</td>\n",
       "      <td>530870</td>\n",
       "      <td>155930</td>\n",
       "      <td>0.0</td>\n",
       "      <td>0</td>\n",
       "    </tr>\n",
       "    <tr>\n",
       "      <th>1</th>\n",
       "      <td>2</td>\n",
       "      <td>530945</td>\n",
       "      <td>155898</td>\n",
       "      <td>0.0</td>\n",
       "      <td>0</td>\n",
       "    </tr>\n",
       "    <tr>\n",
       "      <th>2</th>\n",
       "      <td>3</td>\n",
       "      <td>531045</td>\n",
       "      <td>155898</td>\n",
       "      <td>0.0</td>\n",
       "      <td>0</td>\n",
       "    </tr>\n",
       "    <tr>\n",
       "      <th>3</th>\n",
       "      <td>4</td>\n",
       "      <td>531145</td>\n",
       "      <td>155898</td>\n",
       "      <td>0.0</td>\n",
       "      <td>0</td>\n",
       "    </tr>\n",
       "    <tr>\n",
       "      <th>4</th>\n",
       "      <td>5</td>\n",
       "      <td>531245</td>\n",
       "      <td>155898</td>\n",
       "      <td>0.0</td>\n",
       "      <td>0</td>\n",
       "    </tr>\n",
       "  </tbody>\n",
       "</table>\n",
       "</div>"
      ],
      "text/plain": [
       "   ID       X       Y  AI2015 PTAL2015\n",
       "0   1  530870  155930     0.0        0\n",
       "1   2  530945  155898     0.0        0\n",
       "2   3  531045  155898     0.0        0\n",
       "3   4  531145  155898     0.0        0\n",
       "4   5  531245  155898     0.0        0"
      ]
     },
<<<<<<< HEAD
     "execution_count": 71,
=======
     "execution_count": 107,
>>>>>>> 6be01654a7ee49ef3a2054644cb3a4108c2cabbf
     "metadata": {},
     "output_type": "execute_result"
    }
   ],
   "source": [
<<<<<<< HEAD
    "# well.. the grid version is more poised for interpolation. #however, it only yields half of London\n",
    "# hence need to check data source. \n",
    "PTAL_grid =pd.read_csv(\"/Users/June/urbanDNA/Ele-June/June's Data/2015  PTALs Grid Values 280515.csv\")\n",
    "PTAL_grid.head()\n",
    "# use the Accessiility Index 2015 (AI2015) bc it is numerical variable. \n",
    "# PTAL.grid.dtypes\n",
    "# PTAL.grid.describe()\n"
=======
    "# read in PTAL data.\n",
    "PTAL = pd.read_csv(\"/Users/June/urbanDNA/Ele-June/June's Data/COA2011 AvPTAI2015.csv\")\n",
    "PTAL.head()\n"
>>>>>>> 6be01654a7ee49ef3a2054644cb3a4108c2cabbf
   ]
  },
  {
   "cell_type": "code",
<<<<<<< HEAD
   "execution_count": 72,
   "metadata": {
    "collapsed": false
   },
   "outputs": [],
   "source": [
    "## to put it in a grid.\n",
    "# PTAL.grid.pivot(index='Y', columns='X', values='AI2015')"
=======
   "execution_count": 76,
   "metadata": {
    "collapsed": false
   },
   "outputs": [
    {
     "data": {
      "text/html": [
       "<div>\n",
       "<table border=\"1\" class=\"dataframe\">\n",
       "  <thead>\n",
       "    <tr style=\"text-align: right;\">\n",
       "      <th></th>\n",
       "      <th>ID</th>\n",
       "      <th>X</th>\n",
       "      <th>Y</th>\n",
       "      <th>AI2015</th>\n",
       "    </tr>\n",
       "  </thead>\n",
       "  <tbody>\n",
       "    <tr>\n",
       "      <th>count</th>\n",
       "      <td>65499.000000</td>\n",
       "      <td>65499.000000</td>\n",
       "      <td>65499.000000</td>\n",
       "      <td>65499.000000</td>\n",
       "    </tr>\n",
       "    <tr>\n",
       "      <th>mean</th>\n",
       "      <td>32750.000000</td>\n",
       "      <td>531527.316005</td>\n",
       "      <td>169456.165483</td>\n",
       "      <td>7.233324</td>\n",
       "    </tr>\n",
       "    <tr>\n",
       "      <th>std</th>\n",
       "      <td>18908.076978</td>\n",
       "      <td>11592.483381</td>\n",
       "      <td>5327.660434</td>\n",
       "      <td>8.506547</td>\n",
       "    </tr>\n",
       "    <tr>\n",
       "      <th>min</th>\n",
       "      <td>1.000000</td>\n",
       "      <td>503596.000000</td>\n",
       "      <td>155898.000000</td>\n",
       "      <td>0.000000</td>\n",
       "    </tr>\n",
       "    <tr>\n",
       "      <th>25%</th>\n",
       "      <td>16375.500000</td>\n",
       "      <td>522845.000000</td>\n",
       "      <td>165352.000000</td>\n",
       "      <td>1.793474</td>\n",
       "    </tr>\n",
       "    <tr>\n",
       "      <th>50%</th>\n",
       "      <td>32750.000000</td>\n",
       "      <td>532145.000000</td>\n",
       "      <td>170152.000000</td>\n",
       "      <td>4.852556</td>\n",
       "    </tr>\n",
       "    <tr>\n",
       "      <th>75%</th>\n",
       "      <td>49124.500000</td>\n",
       "      <td>541345.000000</td>\n",
       "      <td>174052.000000</td>\n",
       "      <td>9.885432</td>\n",
       "    </tr>\n",
       "    <tr>\n",
       "      <th>max</th>\n",
       "      <td>65499.000000</td>\n",
       "      <td>553654.000000</td>\n",
       "      <td>177452.000000</td>\n",
       "      <td>92.987122</td>\n",
       "    </tr>\n",
       "  </tbody>\n",
       "</table>\n",
       "</div>"
      ],
      "text/plain": [
       "                 ID              X              Y        AI2015\n",
       "count  65499.000000   65499.000000   65499.000000  65499.000000\n",
       "mean   32750.000000  531527.316005  169456.165483      7.233324\n",
       "std    18908.076978   11592.483381    5327.660434      8.506547\n",
       "min        1.000000  503596.000000  155898.000000      0.000000\n",
       "25%    16375.500000  522845.000000  165352.000000      1.793474\n",
       "50%    32750.000000  532145.000000  170152.000000      4.852556\n",
       "75%    49124.500000  541345.000000  174052.000000      9.885432\n",
       "max    65499.000000  553654.000000  177452.000000     92.987122"
      ]
     },
     "execution_count": 76,
     "metadata": {},
     "output_type": "execute_result"
    }
   ],
   "source": [
    "# well.. the grid version is more poised for interpolation. #however, it only yields half of London\n",
    "# hence need to check data source. \n",
    "PTAL_grid =pd.read_csv(\"/Users/June/urbanDNA/Ele-June/June's Data/2015  PTALs Grid Values 280515.csv\")\n",
    "#PTAL_grid.head()\n",
    "# use the Accessiility Index 2015 (AI2015) bc it is numerical variable. \n",
    "# PTAL.grid.dtypes\n",
    "PTAL.grid.describe()\n"
>>>>>>> 6be01654a7ee49ef3a2054644cb3a4108c2cabbf
   ]
  },
  {
   "cell_type": "code",
<<<<<<< HEAD
   "execution_count": 73,
   "metadata": {
    "collapsed": false
   },
   "outputs": [],
   "source": [
    "# To produce the grid to interplot on\n",
    "x = np.arange(min(PTAL_grid['X']), max(PTAL_grid['X']), 1)\n",
    "y = np.arange(min(PTAL_grid['Y']), max(PTAL_grid['Y']), 1)\n",
    "xx, yy = np.meshgrid(x,y, sparse=True)\n"
=======
   "execution_count": 83,
   "metadata": {
    "collapsed": false
   },
   "outputs": [
    {
     "data": {
      "text/html": [
       "<div>\n",
       "<table border=\"1\" class=\"dataframe\">\n",
       "  <thead>\n",
       "    <tr style=\"text-align: right;\">\n",
       "      <th></th>\n",
       "      <th>ID</th>\n",
       "      <th>X</th>\n",
       "      <th>Y</th>\n",
       "      <th>AI2015</th>\n",
       "    </tr>\n",
       "  </thead>\n",
       "  <tbody>\n",
       "    <tr>\n",
       "      <th>count</th>\n",
       "      <td>151.000000</td>\n",
       "      <td>151.000000</td>\n",
       "      <td>151.00000</td>\n",
       "      <td>151.000000</td>\n",
       "    </tr>\n",
       "    <tr>\n",
       "      <th>mean</th>\n",
       "      <td>39038.059603</td>\n",
       "      <td>509089.715232</td>\n",
       "      <td>171778.81457</td>\n",
       "      <td>1.842544</td>\n",
       "    </tr>\n",
       "    <tr>\n",
       "      <th>std</th>\n",
       "      <td>1112.140430</td>\n",
       "      <td>502.492353</td>\n",
       "      <td>271.06202</td>\n",
       "      <td>1.354494</td>\n",
       "    </tr>\n",
       "    <tr>\n",
       "      <th>min</th>\n",
       "      <td>36474.000000</td>\n",
       "      <td>508046.000000</td>\n",
       "      <td>171174.00000</td>\n",
       "      <td>0.000000</td>\n",
       "    </tr>\n",
       "    <tr>\n",
       "      <th>25%</th>\n",
       "      <td>38090.500000</td>\n",
       "      <td>508745.000000</td>\n",
       "      <td>171552.00000</td>\n",
       "      <td>1.527518</td>\n",
       "    </tr>\n",
       "    <tr>\n",
       "      <th>50%</th>\n",
       "      <td>39322.000000</td>\n",
       "      <td>509145.000000</td>\n",
       "      <td>171848.00000</td>\n",
       "      <td>1.772330</td>\n",
       "    </tr>\n",
       "    <tr>\n",
       "      <th>75%</th>\n",
       "      <td>40155.500000</td>\n",
       "      <td>509445.000000</td>\n",
       "      <td>172052.00000</td>\n",
       "      <td>2.321617</td>\n",
       "    </tr>\n",
       "    <tr>\n",
       "      <th>max</th>\n",
       "      <td>40591.000000</td>\n",
       "      <td>509945.000000</td>\n",
       "      <td>172152.00000</td>\n",
       "      <td>6.126986</td>\n",
       "    </tr>\n",
       "  </tbody>\n",
       "</table>\n",
       "</div>"
      ],
      "text/plain": [
       "                 ID              X             Y      AI2015\n",
       "count    151.000000     151.000000     151.00000  151.000000\n",
       "mean   39038.059603  509089.715232  171778.81457    1.842544\n",
       "std     1112.140430     502.492353     271.06202    1.354494\n",
       "min    36474.000000  508046.000000  171174.00000    0.000000\n",
       "25%    38090.500000  508745.000000  171552.00000    1.527518\n",
       "50%    39322.000000  509145.000000  171848.00000    1.772330\n",
       "75%    40155.500000  509445.000000  172052.00000    2.321617\n",
       "max    40591.000000  509945.000000  172152.00000    6.126986"
      ]
     },
     "execution_count": 83,
     "metadata": {},
     "output_type": "execute_result"
    }
   ],
   "source": [
    "# let's try with a section of the original data set. \n",
    "sub = PTAL_grid[PTAL_grid[\"X\"]<510000]\n",
    "sub = sub[sub[\"Y\"]<172200]\n",
    "sub.describe()"
>>>>>>> 6be01654a7ee49ef3a2054644cb3a4108c2cabbf
   ]
  },
  {
   "cell_type": "code",
<<<<<<< HEAD
   "execution_count": 74,
=======
   "execution_count": 72,
>>>>>>> 6be01654a7ee49ef3a2054644cb3a4108c2cabbf
   "metadata": {
    "collapsed": true
   },
   "outputs": [],
<<<<<<< HEAD
   "source": [
    "# These code are from http://geoexamples.blogspot.co.uk/2012/05/creating-grid-from-scattered-data-using.html\n",
    "from math import pow\n",
    "from math import sqrt\n",
    "import numpy as np\n",
    "import matplotlib.pyplot as plt\n",
    "\n",
    "# xv, yv, values are all corresponding to the same same dot at the same time. three arrays of the same length.\n",
    "def pointValue(x,y,power,smoothing,xv,yv,values):\n",
    "    nominator=0\n",
    "    denominator=0\n",
    "    for i in range(0,len(values)):\n",
    "        dist = sqrt((x-xv[i])*(x-xv[i])+(y-yv[i])*(y-yv[i])+smoothing*smoothing);\n",
    "        #If the point is really close to one of the data points, return the data point value to avoid singularities\n",
    "        if(dist<0.0000000001):\n",
    "            return values[i]\n",
    "        nominator=nominator+(values[i]/pow(dist,power))\n",
    "        denominator=denominator+(1/pow(dist,power))\n",
    "    #Return NODATA if the denominator is zero\n",
    "    if denominator > 0:\n",
    "        value = nominator/denominator\n",
    "    else:\n",
    "        value = -9999\n",
    "    return value\n",
    "\n",
    "# returns value for one grid\n",
    "\n",
    "def invDist(xv,yv,values,xsize=100,ysize=100,power=2,smoothing=0):\n",
    "    valuesGrid = np.zeros((ysize,xsize))\n",
    "    for x in range(0,xsize):\n",
    "        for y in range(0,ysize):\n",
    "            valuesGrid[y][x] = pointValue(x,y,power,smoothing,xv,yv,values)\n",
    "    return valuesGrid\n",
    "\n",
    "# returns a matrix filled with value calculated from the method above"
=======
   "source": [
    "## to put it in a grid.\n",
    "# PTAL.grid.pivot(index='Y', columns='X', values='AI2015')"
   ]
  },
  {
   "cell_type": "code",
   "execution_count": 84,
   "metadata": {
    "collapsed": false
   },
   "outputs": [],
   "source": [
    "# To produce the grid to interplot on\n",
    "x = np.arange(min(PTAL_grid['X']), max(PTAL_grid['X']), 1)\n",
    "y = np.arange(min(PTALgrid['Y']), max(PTAL_grid['Y']), 1)\n",
    "xx, yy = np.meshgrid(x,y, sparse=True)\n"
>>>>>>> 6be01654a7ee49ef3a2054644cb3a4108c2cabbf
   ]
  },
  {
   "cell_type": "code",
<<<<<<< HEAD
   "execution_count": null,
   "metadata": {
    "collapsed": false
   },
   "outputs": [],
   "source": [
    "power = 1\n",
    "smoothing=20\n",
    "\n",
    "#Creating some data, with each coodinate and the values stored in separated lists\n",
    "xv = PTAL_grid['X']\n",
    "yv = PTAL_grid['Y']\n",
    "values = PTAL_grid['AI2015']\n",
    "\n",
    "\n",
    "\n",
    "#Creating the interpolation function and populating the output matrix value\n",
    "ZI = invDist(xv,yv,values,len(x),len(y),power,smoothing)\n",
    "\n",
    "\n",
    "# Plotting the result\n",
    "n = plt.Normalize(0.0, 100.0)\n",
    "plt.subplot(1, 1, 1)\n",
    "plt.pcolor(XI, YI, ZI)\n",
    "plt.scatter(xv, yv, 100, values)\n",
    "plt.title('Inv dist interpolation - power: ' + str(power) + ' smoothing: ' + str(smoothing))\n",
    "plt.xlim(0, 100)\n",
    "plt.ylim(0, 100)\n",
    "plt.colorbar()\n",
    "\n",
    "plt.show()"
=======
   "execution_count": 97,
   "metadata": {
    "collapsed": false
   },
   "outputs": [
    {
     "data": {
      "text/html": [
       "<div>\n",
       "<table border=\"1\" class=\"dataframe\">\n",
       "  <thead>\n",
       "    <tr style=\"text-align: right;\">\n",
       "      <th></th>\n",
       "      <th>ID</th>\n",
       "      <th>X</th>\n",
       "      <th>Y</th>\n",
       "      <th>AI2015</th>\n",
       "    </tr>\n",
       "  </thead>\n",
       "  <tbody>\n",
       "    <tr>\n",
       "      <th>count</th>\n",
       "      <td>151.000000</td>\n",
       "      <td>151.000000</td>\n",
       "      <td>151.00000</td>\n",
       "      <td>151.000000</td>\n",
       "    </tr>\n",
       "    <tr>\n",
       "      <th>mean</th>\n",
       "      <td>39038.059603</td>\n",
       "      <td>509089.715232</td>\n",
       "      <td>171778.81457</td>\n",
       "      <td>1.842544</td>\n",
       "    </tr>\n",
       "    <tr>\n",
       "      <th>std</th>\n",
       "      <td>1112.140430</td>\n",
       "      <td>502.492353</td>\n",
       "      <td>271.06202</td>\n",
       "      <td>1.354494</td>\n",
       "    </tr>\n",
       "    <tr>\n",
       "      <th>min</th>\n",
       "      <td>36474.000000</td>\n",
       "      <td>508046.000000</td>\n",
       "      <td>171174.00000</td>\n",
       "      <td>0.000000</td>\n",
       "    </tr>\n",
       "    <tr>\n",
       "      <th>25%</th>\n",
       "      <td>38090.500000</td>\n",
       "      <td>508745.000000</td>\n",
       "      <td>171552.00000</td>\n",
       "      <td>1.527518</td>\n",
       "    </tr>\n",
       "    <tr>\n",
       "      <th>50%</th>\n",
       "      <td>39322.000000</td>\n",
       "      <td>509145.000000</td>\n",
       "      <td>171848.00000</td>\n",
       "      <td>1.772330</td>\n",
       "    </tr>\n",
       "    <tr>\n",
       "      <th>75%</th>\n",
       "      <td>40155.500000</td>\n",
       "      <td>509445.000000</td>\n",
       "      <td>172052.00000</td>\n",
       "      <td>2.321617</td>\n",
       "    </tr>\n",
       "    <tr>\n",
       "      <th>max</th>\n",
       "      <td>40591.000000</td>\n",
       "      <td>509945.000000</td>\n",
       "      <td>172152.00000</td>\n",
       "      <td>6.126986</td>\n",
       "    </tr>\n",
       "  </tbody>\n",
       "</table>\n",
       "</div>"
      ],
      "text/plain": [
       "                 ID              X             Y      AI2015\n",
       "count    151.000000     151.000000     151.00000  151.000000\n",
       "mean   39038.059603  509089.715232  171778.81457    1.842544\n",
       "std     1112.140430     502.492353     271.06202    1.354494\n",
       "min    36474.000000  508046.000000  171174.00000    0.000000\n",
       "25%    38090.500000  508745.000000  171552.00000    1.527518\n",
       "50%    39322.000000  509145.000000  171848.00000    1.772330\n",
       "75%    40155.500000  509445.000000  172052.00000    2.321617\n",
       "max    40591.000000  509945.000000  172152.00000    6.126986"
      ]
     },
     "execution_count": 97,
     "metadata": {},
     "output_type": "execute_result"
    }
   ],
   "source": [
    "sub.describe()"
   ]
  },
  {
   "cell_type": "code",
   "execution_count": null,
   "metadata": {
    "collapsed": true
   },
   "outputs": [],
   "source": [
    "import numpy as np\n",
    "from scipy.interpolate import Rbf\n",
    "import matplotlib.pyplot as plt\n",
    "from matplotlib import cm\n",
    "\n",
    "# 2-d tests - setup scattered data\n",
    "x = sub['X']\n",
    "y = sub['Y']\n",
    "z = sub['AI2015']\n",
    "txi = np.linspace(min(x), max(x), 1000)\n",
    "tyi = np.linspace(min(y), max(y), 1000)\n",
    "XI, YI = np.meshgrid(txi, tyi)\n",
    "\n",
    "# use RBF\n",
    "rbf = Rbf(x, y, z, epsilon=2)\n",
    "ZI = rbf(XI, YI)"
>>>>>>> 6be01654a7ee49ef3a2054644cb3a4108c2cabbf
   ]
  },
  {
   "cell_type": "code",
<<<<<<< HEAD
   "execution_count": null,
   "metadata": {
    "collapsed": false
   },
   "outputs": [],
   "source": []
  },
  {
   "cell_type": "code",
   "execution_count": 52,
   "metadata": {
    "collapsed": false
   },
   "outputs": [],
   "source": []
  },
  {
   "cell_type": "code",
   "execution_count": null,
   "metadata": {
    "collapsed": false
   },
   "outputs": [],
   "source": []
=======
   "execution_count": 103,
   "metadata": {
    "collapsed": false
   },
   "outputs": [
    {
     "data": {
      "image/png": "iVBORw0KGgoAAAANSUhEUgAAAc4AAAFXCAYAAAArj647AAAABHNCSVQICAgIfAhkiAAAAAlwSFlz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\n",
      "text/plain": [
       "<matplotlib.figure.Figure at 0x119184c50>"
      ]
     },
     "metadata": {},
     "output_type": "display_data"
    }
   ],
   "source": [
    "# plot the result\n",
    "plt.subplot(1, 1, 1)\n",
    "plt.pcolor(XI, YI, ZI, cmap=cm.jet)\n",
    "# plt.scatter(x, y, 100, z, cmap=cm.jet)\n",
    "plt.title('RBF interpolation - multiquadrics')\n",
    "plt.xlim(min(x),max(x))\n",
    "plt.ylim(min(y), max(y))\n",
    "plt.colorbar()\n",
    "plt.show()"
   ]
>>>>>>> 6be01654a7ee49ef3a2054644cb3a4108c2cabbf
  },
  {
   "cell_type": "code",
   "execution_count": null,
   "metadata": {
    "collapsed": true
   },
   "outputs": [],
   "source": []
  }
 ],
 "metadata": {
  "kernelspec": {
   "display_name": "Python 3",
   "language": "python",
   "name": "python3"
  },
  "language_info": {
   "codemirror_mode": {
    "name": "ipython",
    "version": 3
   },
   "file_extension": ".py",
   "mimetype": "text/x-python",
   "name": "python",
   "nbconvert_exporter": "python",
   "pygments_lexer": "ipython3",
   "version": "3.6.0"
  }
 },
 "nbformat": 4,
 "nbformat_minor": 2
}
