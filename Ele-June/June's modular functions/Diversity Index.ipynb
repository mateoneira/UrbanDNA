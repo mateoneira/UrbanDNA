{
 "cells": [
  {
   "cell_type": "code",
   "execution_count": 1,
   "metadata": {
    "collapsed": true
   },
   "outputs": [],
   "source": [
    "import scipy as sp\n",
    "import collections\n",
    "import numpy as np\n",
    "import math\n",
    "import matplotlib.pyplot as plt\n",
    "import pandas as pd\n",
    "# from scipy.spatial import distance_matrix\n",
    "# import geopandas as gpd\n",
    "# import shapely.wkt\n",
    "# from shapely.geometry import Point\n",
    "# import json\n",
    "# import sklearn\n",
    "# from sklearn.neighbors import NearestNeighbors\n",
    "# import sklearn.preprocessing as preprocessing\n",
    "# from shapely.geometry import Point\n",
    "# from shapely.geometry.polygon import Polygon\n"
   ]
  },
  {
   "cell_type": "code",
   "execution_count": 2,
   "metadata": {
    "collapsed": true
   },
   "outputs": [],
   "source": [
    "# Input a pandas series \n",
    "def shannon(data):\n",
    "    p_data= data.value_counts()/(len(data))*1.0 # calculates the probabilities\n",
    "    entropy=sc.stats.entropy(p_data)  # input probabilities to get the entropy \n",
    "    return entropy"
   ]
  },
  {
   "cell_type": "code",
   "execution_count": null,
   "metadata": {
    "collapsed": true
   },
   "outputs": [],
   "source": []
  }
 ],
 "metadata": {
  "kernelspec": {
   "display_name": "Python 2",
   "language": "python",
   "name": "python2"
  },
  "language_info": {
   "codemirror_mode": {
    "name": "ipython",
    "version": 2
   },
   "file_extension": ".py",
   "mimetype": "text/x-python",
   "name": "python",
   "nbconvert_exporter": "python",
   "pygments_lexer": "ipython2",
   "version": "2.7.13"
  }
 },
 "nbformat": 4,
 "nbformat_minor": 2
}
