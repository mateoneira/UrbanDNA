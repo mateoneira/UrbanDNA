{
 "cells": [
  {
   "cell_type": "markdown",
   "metadata": {},
   "source": [
    "## Libraries\n",
    "geopandas may take a while to install. it has to be in python 2.7. ask mateo if there's problem."
   ]
  },
  {
   "cell_type": "code",
   "execution_count": 121,
   "metadata": {},
   "outputs": [],
   "source": [
    "import geopandas as gpd\n",
    "import pandas as pd\n",
    "import numpy as np\n",
    "import os\n",
    "import numpy as np\n",
    "import matplotlib.pyplot as plt\n",
    "from geopandas.tools import overlay\n",
    "from shapely.geometry.polygon import Polygon\n",
    "from shapely.geometry.point import Point\n",
    "import ast\n",
    "from convertbng.util import convert_bng, convert_lonlat"
   ]
  },
  {
   "cell_type": "markdown",
   "metadata": {},
   "source": [
    "## Input shapefiles. \n",
    "sc_file is source shapefile with attribute values; tg_file is target shapefile (boundary obtained from amenitiy clusterning, in our case)"
   ]
  },
  {
   "cell_type": "code",
   "execution_count": 96,
   "metadata": {
    "collapsed": true
   },
   "outputs": [],
   "source": [
    "sc_file=\"/Users/June/urbanDNA/data/london_info_shp/london_info.shp\"\n",
    "tg_file=\"/Users/June/urbanDNA/Ele-June/HDBSCAN_polygons.csv\""
   ]
  },
  {
   "cell_type": "code",
   "execution_count": 217,
   "metadata": {
    "collapsed": true
   },
   "outputs": [],
   "source": [
    "tg_BNG = pd.read_csv(tg_file)"
   ]
  },
  {
   "cell_type": "code",
   "execution_count": 218,
   "metadata": {},
   "outputs": [],
   "source": [
    "def project1Polygon (point_list):     \n",
    "    point_list =ast.literal_eval(point_list)\n",
    "\n",
    "    for x in range(0,len(point_list)):  \n",
    "        point_list[x] = point_list[x]\n",
    "\n",
    "    test_matrix= np.matrix(point_list)\n",
    "    t= np.matrix.transpose(np.array(convert_bng(test_matrix[:,0],test_matrix[:,1])))\n",
    "\n",
    "    for x in range(0,len(point_list)):  \n",
    "        point_list[x]=tuple(t[x])"
   ]
  },
  {
   "cell_type": "code",
   "execution_count": 219,
   "metadata": {},
   "outputs": [],
   "source": [
    "for i in range(0,len(tg_BNG)):\n",
    "    project1Polygon(tg_BNG['Polygon'][i])\n",
    "    tg_BNG.set_value(i,'Polygon',Polygon(ast.literal_eval(tg_BNG['Polygon'][i])))"
   ]
  },
  {
   "cell_type": "code",
   "execution_count": 220,
   "metadata": {},
   "outputs": [
    {
     "data": {
      "text/html": [
       "<div>\n",
       "<style>\n",
       "    .dataframe thead tr:only-child th {\n",
       "        text-align: right;\n",
       "    }\n",
       "\n",
       "    .dataframe thead th {\n",
       "        text-align: left;\n",
       "    }\n",
       "\n",
       "    .dataframe tbody tr th {\n",
       "        vertical-align: top;\n",
       "    }\n",
       "</style>\n",
       "<table border=\"1\" class=\"dataframe\">\n",
       "  <thead>\n",
       "    <tr style=\"text-align: right;\">\n",
       "      <th></th>\n",
       "      <th>Unnamed: 0</th>\n",
       "      <th>Clusters</th>\n",
       "      <th>Polygon</th>\n",
       "    </tr>\n",
       "  </thead>\n",
       "  <tbody>\n",
       "    <tr>\n",
       "      <th>0</th>\n",
       "      <td>0</td>\n",
       "      <td>0</td>\n",
       "      <td>POLYGON ((0.139546 51.3517307, 0.1303335 51.35...</td>\n",
       "    </tr>\n",
       "    <tr>\n",
       "      <th>1</th>\n",
       "      <td>1</td>\n",
       "      <td>1</td>\n",
       "      <td>POLYGON ((-0.0443433 51.4097257, -0.0505941 51...</td>\n",
       "    </tr>\n",
       "    <tr>\n",
       "      <th>2</th>\n",
       "      <td>2</td>\n",
       "      <td>2</td>\n",
       "      <td>POLYGON ((-0.448596 51.4690074, -0.45114449999...</td>\n",
       "    </tr>\n",
       "    <tr>\n",
       "      <th>3</th>\n",
       "      <td>3</td>\n",
       "      <td>3</td>\n",
       "      <td>POLYGON ((-0.0933225 51.6409273, -0.0958389999...</td>\n",
       "    </tr>\n",
       "    <tr>\n",
       "      <th>4</th>\n",
       "      <td>4</td>\n",
       "      <td>4</td>\n",
       "      <td>POLYGON ((-0.2108913 51.3532471, -0.2212 51.35...</td>\n",
       "    </tr>\n",
       "  </tbody>\n",
       "</table>\n",
       "</div>"
      ],
      "text/plain": [
       "   Unnamed: 0  Clusters                                            Polygon\n",
       "0           0         0  POLYGON ((0.139546 51.3517307, 0.1303335 51.35...\n",
       "1           1         1  POLYGON ((-0.0443433 51.4097257, -0.0505941 51...\n",
       "2           2         2  POLYGON ((-0.448596 51.4690074, -0.45114449999...\n",
       "3           3         3  POLYGON ((-0.0933225 51.6409273, -0.0958389999...\n",
       "4           4         4  POLYGON ((-0.2108913 51.3532471, -0.2212 51.35..."
      ]
     },
     "execution_count": 220,
     "metadata": {},
     "output_type": "execute_result"
    }
   ],
   "source": [
    "tg_BNG.head()"
   ]
  },
  {
   "cell_type": "code",
   "execution_count": 80,
   "metadata": {},
   "outputs": [],
   "source": [
    "# tg =pd.read_csv(tg_file)\n",
    "\n",
    "# for i in range(0,len(tg)):\n",
    "#     tg.set_value(i,'Polygon',Polygon(ast.literal_eval(tg['Polygon'][i]))) ### ast.literal_eval parses list in a string into a string"
   ]
  },
  {
   "cell_type": "code",
   "execution_count": 221,
   "metadata": {},
   "outputs": [
    {
     "data": {
      "text/html": [
       "<div>\n",
       "<style>\n",
       "    .dataframe thead tr:only-child th {\n",
       "        text-align: right;\n",
       "    }\n",
       "\n",
       "    .dataframe thead th {\n",
       "        text-align: left;\n",
       "    }\n",
       "\n",
       "    .dataframe tbody tr th {\n",
       "        vertical-align: top;\n",
       "    }\n",
       "</style>\n",
       "<table border=\"1\" class=\"dataframe\">\n",
       "  <thead>\n",
       "    <tr style=\"text-align: right;\">\n",
       "      <th></th>\n",
       "      <th>Unnamed: 0</th>\n",
       "      <th>Clusters</th>\n",
       "      <th>Polygon</th>\n",
       "    </tr>\n",
       "  </thead>\n",
       "  <tbody>\n",
       "    <tr>\n",
       "      <th>0</th>\n",
       "      <td>0</td>\n",
       "      <td>0</td>\n",
       "      <td>POLYGON ((0.139546 51.3517307, 0.1303335 51.35...</td>\n",
       "    </tr>\n",
       "    <tr>\n",
       "      <th>1</th>\n",
       "      <td>1</td>\n",
       "      <td>1</td>\n",
       "      <td>POLYGON ((-0.0443433 51.4097257, -0.0505941 51...</td>\n",
       "    </tr>\n",
       "    <tr>\n",
       "      <th>2</th>\n",
       "      <td>2</td>\n",
       "      <td>2</td>\n",
       "      <td>POLYGON ((-0.448596 51.4690074, -0.45114449999...</td>\n",
       "    </tr>\n",
       "    <tr>\n",
       "      <th>3</th>\n",
       "      <td>3</td>\n",
       "      <td>3</td>\n",
       "      <td>POLYGON ((-0.0933225 51.6409273, -0.0958389999...</td>\n",
       "    </tr>\n",
       "    <tr>\n",
       "      <th>4</th>\n",
       "      <td>4</td>\n",
       "      <td>4</td>\n",
       "      <td>POLYGON ((-0.2108913 51.3532471, -0.2212 51.35...</td>\n",
       "    </tr>\n",
       "  </tbody>\n",
       "</table>\n",
       "</div>"
      ],
      "text/plain": [
       "   Unnamed: 0  Clusters                                            Polygon\n",
       "0           0         0  POLYGON ((0.139546 51.3517307, 0.1303335 51.35...\n",
       "1           1         1  POLYGON ((-0.0443433 51.4097257, -0.0505941 51...\n",
       "2           2         2  POLYGON ((-0.448596 51.4690074, -0.45114449999...\n",
       "3           3         3  POLYGON ((-0.0933225 51.6409273, -0.0958389999...\n",
       "4           4         4  POLYGON ((-0.2108913 51.3532471, -0.2212 51.35..."
      ]
     },
     "execution_count": 221,
     "metadata": {},
     "output_type": "execute_result"
    }
   ],
   "source": [
    "sc_shp = gpd.read_file(sc_file)\n",
    "tg_shp = gpd.GeoDataFrame(tg_BNG)\n",
    "tg_shp.head() #M_W_H_I is medium house income attached from census data.\n"
   ]
  },
  {
   "cell_type": "code",
   "execution_count": 222,
   "metadata": {},
   "outputs": [
    {
     "data": {
      "text/html": [
       "<div>\n",
       "<style>\n",
       "    .dataframe thead tr:only-child th {\n",
       "        text-align: right;\n",
       "    }\n",
       "\n",
       "    .dataframe thead th {\n",
       "        text-align: left;\n",
       "    }\n",
       "\n",
       "    .dataframe tbody tr th {\n",
       "        vertical-align: top;\n",
       "    }\n",
       "</style>\n",
       "<table border=\"1\" class=\"dataframe\">\n",
       "  <thead>\n",
       "    <tr style=\"text-align: right;\">\n",
       "      <th></th>\n",
       "      <th>a</th>\n",
       "      <th>Clusters</th>\n",
       "      <th>geometry</th>\n",
       "    </tr>\n",
       "  </thead>\n",
       "  <tbody>\n",
       "    <tr>\n",
       "      <th>0</th>\n",
       "      <td>0</td>\n",
       "      <td>0</td>\n",
       "      <td>POLYGON ((0.139546 51.3517307, 0.1303335 51.35...</td>\n",
       "    </tr>\n",
       "    <tr>\n",
       "      <th>1</th>\n",
       "      <td>1</td>\n",
       "      <td>1</td>\n",
       "      <td>POLYGON ((-0.0443433 51.4097257, -0.0505941 51...</td>\n",
       "    </tr>\n",
       "    <tr>\n",
       "      <th>2</th>\n",
       "      <td>2</td>\n",
       "      <td>2</td>\n",
       "      <td>POLYGON ((-0.448596 51.4690074, -0.45114449999...</td>\n",
       "    </tr>\n",
       "    <tr>\n",
       "      <th>3</th>\n",
       "      <td>3</td>\n",
       "      <td>3</td>\n",
       "      <td>POLYGON ((-0.0933225 51.6409273, -0.0958389999...</td>\n",
       "    </tr>\n",
       "    <tr>\n",
       "      <th>4</th>\n",
       "      <td>4</td>\n",
       "      <td>4</td>\n",
       "      <td>POLYGON ((-0.2108913 51.3532471, -0.2212 51.35...</td>\n",
       "    </tr>\n",
       "  </tbody>\n",
       "</table>\n",
       "</div>"
      ],
      "text/plain": [
       "   a  Clusters                                           geometry\n",
       "0  0         0  POLYGON ((0.139546 51.3517307, 0.1303335 51.35...\n",
       "1  1         1  POLYGON ((-0.0443433 51.4097257, -0.0505941 51...\n",
       "2  2         2  POLYGON ((-0.448596 51.4690074, -0.45114449999...\n",
       "3  3         3  POLYGON ((-0.0933225 51.6409273, -0.0958389999...\n",
       "4  4         4  POLYGON ((-0.2108913 51.3532471, -0.2212 51.35..."
      ]
     },
     "execution_count": 222,
     "metadata": {},
     "output_type": "execute_result"
    }
   ],
   "source": [
    "tg_shp.columns = ['a', 'Clusters','geometry']\n",
    "tg_shp.head()"
   ]
  },
  {
   "cell_type": "code",
   "execution_count": 87,
   "metadata": {},
   "outputs": [
    {
     "data": {
      "text/html": [
       "<div>\n",
       "<style>\n",
       "    .dataframe thead tr:only-child th {\n",
       "        text-align: right;\n",
       "    }\n",
       "\n",
       "    .dataframe thead th {\n",
       "        text-align: left;\n",
       "    }\n",
       "\n",
       "    .dataframe tbody tr th {\n",
       "        vertical-align: top;\n",
       "    }\n",
       "</style>\n",
       "<table border=\"1\" class=\"dataframe\">\n",
       "  <thead>\n",
       "    <tr style=\"text-align: right;\">\n",
       "      <th></th>\n",
       "      <th>GSS_COD</th>\n",
       "      <th>NAME</th>\n",
       "      <th>HECTARE</th>\n",
       "      <th>NONLD_A</th>\n",
       "      <th>LB_GSS_</th>\n",
       "      <th>BOROUGH</th>\n",
       "      <th>POLY_ID</th>\n",
       "      <th>Ward_nm</th>\n",
       "      <th>pop15</th>\n",
       "      <th>num_jbs</th>\n",
       "      <th>income</th>\n",
       "      <th>accssbl</th>\n",
       "      <th>geometry</th>\n",
       "    </tr>\n",
       "  </thead>\n",
       "  <tbody>\n",
       "    <tr>\n",
       "      <th>0</th>\n",
       "      <td>E05000405</td>\n",
       "      <td>Chessington South</td>\n",
       "      <td>755.173</td>\n",
       "      <td>0.0</td>\n",
       "      <td>E09000021</td>\n",
       "      <td>Kingston upon Thames</td>\n",
       "      <td>50840</td>\n",
       "      <td>Kingston upon Thames Chessington South</td>\n",
       "      <td>10550.0</td>\n",
       "      <td>5300</td>\n",
       "      <td>38310.0</td>\n",
       "      <td>2.4</td>\n",
       "      <td>POLYGON ((516401.6 160201.8, 516407.3 160210.5...</td>\n",
       "    </tr>\n",
       "    <tr>\n",
       "      <th>1</th>\n",
       "      <td>E05000414</td>\n",
       "      <td>Tolworth and Hook Rise</td>\n",
       "      <td>259.464</td>\n",
       "      <td>0.0</td>\n",
       "      <td>E09000021</td>\n",
       "      <td>Kingston upon Thames</td>\n",
       "      <td>117160</td>\n",
       "      <td>Kingston upon Thames Tolworth and Hook Rise</td>\n",
       "      <td>10650.0</td>\n",
       "      <td>5200</td>\n",
       "      <td>37840.0</td>\n",
       "      <td>2.3</td>\n",
       "      <td>POLYGON ((517829.6 165447.1, 517837.1 165469.4...</td>\n",
       "    </tr>\n",
       "    <tr>\n",
       "      <th>2</th>\n",
       "      <td>E05000401</td>\n",
       "      <td>Berrylands</td>\n",
       "      <td>145.390</td>\n",
       "      <td>0.0</td>\n",
       "      <td>E09000021</td>\n",
       "      <td>Kingston upon Thames</td>\n",
       "      <td>50449</td>\n",
       "      <td>Kingston upon Thames Berrylands</td>\n",
       "      <td>9800.0</td>\n",
       "      <td>2000</td>\n",
       "      <td>42330.0</td>\n",
       "      <td>2.8</td>\n",
       "      <td>POLYGON ((518107.5 167303.4, 518114.3 167307.5...</td>\n",
       "    </tr>\n",
       "    <tr>\n",
       "      <th>3</th>\n",
       "      <td>E05000400</td>\n",
       "      <td>Alexandra</td>\n",
       "      <td>268.506</td>\n",
       "      <td>0.0</td>\n",
       "      <td>E09000021</td>\n",
       "      <td>Kingston upon Thames</td>\n",
       "      <td>50456</td>\n",
       "      <td>Kingston upon Thames Alexandra</td>\n",
       "      <td>9700.0</td>\n",
       "      <td>2500</td>\n",
       "      <td>41390.0</td>\n",
       "      <td>2.2</td>\n",
       "      <td>POLYGON ((520480 166909.8, 520490.7 166901.9, ...</td>\n",
       "    </tr>\n",
       "    <tr>\n",
       "      <th>4</th>\n",
       "      <td>E05000402</td>\n",
       "      <td>Beverley</td>\n",
       "      <td>187.821</td>\n",
       "      <td>0.0</td>\n",
       "      <td>E09000021</td>\n",
       "      <td>Kingston upon Thames</td>\n",
       "      <td>117161</td>\n",
       "      <td>Kingston upon Thames Beverley</td>\n",
       "      <td>10450.0</td>\n",
       "      <td>4500</td>\n",
       "      <td>40700.0</td>\n",
       "      <td>2.8</td>\n",
       "      <td>POLYGON ((522071 168144.9, 522063.9 168144, 52...</td>\n",
       "    </tr>\n",
       "  </tbody>\n",
       "</table>\n",
       "</div>"
      ],
      "text/plain": [
       "     GSS_COD                    NAME  HECTARE  NONLD_A    LB_GSS_  \\\n",
       "0  E05000405       Chessington South  755.173      0.0  E09000021   \n",
       "1  E05000414  Tolworth and Hook Rise  259.464      0.0  E09000021   \n",
       "2  E05000401              Berrylands  145.390      0.0  E09000021   \n",
       "3  E05000400               Alexandra  268.506      0.0  E09000021   \n",
       "4  E05000402                Beverley  187.821      0.0  E09000021   \n",
       "\n",
       "                BOROUGH POLY_ID                                      Ward_nm  \\\n",
       "0  Kingston upon Thames   50840       Kingston upon Thames Chessington South   \n",
       "1  Kingston upon Thames  117160  Kingston upon Thames Tolworth and Hook Rise   \n",
       "2  Kingston upon Thames   50449              Kingston upon Thames Berrylands   \n",
       "3  Kingston upon Thames   50456               Kingston upon Thames Alexandra   \n",
       "4  Kingston upon Thames  117161                Kingston upon Thames Beverley   \n",
       "\n",
       "     pop15 num_jbs   income  accssbl  \\\n",
       "0  10550.0    5300  38310.0      2.4   \n",
       "1  10650.0    5200  37840.0      2.3   \n",
       "2   9800.0    2000  42330.0      2.8   \n",
       "3   9700.0    2500  41390.0      2.2   \n",
       "4  10450.0    4500  40700.0      2.8   \n",
       "\n",
       "                                            geometry  \n",
       "0  POLYGON ((516401.6 160201.8, 516407.3 160210.5...  \n",
       "1  POLYGON ((517829.6 165447.1, 517837.1 165469.4...  \n",
       "2  POLYGON ((518107.5 167303.4, 518114.3 167307.5...  \n",
       "3  POLYGON ((520480 166909.8, 520490.7 166901.9, ...  \n",
       "4  POLYGON ((522071 168144.9, 522063.9 168144, 52...  "
      ]
     },
     "execution_count": 87,
     "metadata": {},
     "output_type": "execute_result"
    }
   ],
   "source": [
    "sc_shp.head()"
   ]
  },
  {
   "cell_type": "markdown",
   "metadata": {},
   "source": [
    "## Calculation"
   ]
  },
  {
   "cell_type": "code",
   "execution_count": 223,
   "metadata": {
    "collapsed": true
   },
   "outputs": [],
   "source": [
    "attr_name =\"pop15\"\n",
    "\n",
    "sc_values = pd.to_numeric(sc_shp[attr_name])\n",
    "tg_zone_value=[]"
   ]
  },
  {
   "cell_type": "code",
   "execution_count": 89,
   "metadata": {},
   "outputs": [],
   "source": [
    "for i in range(0,len(tg_shp)):\n",
    "  value=0 # temporary variable whose value gets overwritten with every i. \n",
    "  for j in range(0,len(sc_shp)):\n",
    "    inters=overlay(sc_shp.iloc[[j]],tg_shp.iloc[[i]],how=\"intersection\")\n",
    "   \n",
    "    if len(inters) is not 0:\n",
    "      inters_ratio=inters.geometry.area/tg_shp.geometry.area[i]\n",
    "      sc_attr_val=sc_values[j] #8 because column 8 is the attribute we need to extract\n",
    "      inters_wt =inters_ratio*sc_attr_val ## weighted intersection\n",
    "    else:\n",
    "       inters_wt=0 #if not intersecting then sc[j]'s contribution is zero\n",
    "    \n",
    "    # increment tg_zone_value\n",
    "    value = value + inters_wt\n",
    "  \n",
    "  \n",
    "  tg_zone_value.append(value)"
   ]
  },
  {
   "cell_type": "code",
   "execution_count": 93,
   "metadata": {},
   "outputs": [
    {
     "data": {
      "text/plain": [
       "[0,\n",
       " 0,\n",
       " 0,\n",
       " 0,\n",
       " 0,\n",
       " 0,\n",
       " 0,\n",
       " 0,\n",
       " 0,\n",
       " 0,\n",
       " 0,\n",
       " 0,\n",
       " 0,\n",
       " 0,\n",
       " 0,\n",
       " 0,\n",
       " 0,\n",
       " 0,\n",
       " 0,\n",
       " 0,\n",
       " 0,\n",
       " 0,\n",
       " 0,\n",
       " 0,\n",
       " 0,\n",
       " 0,\n",
       " 0,\n",
       " 0,\n",
       " 0,\n",
       " 0,\n",
       " 0,\n",
       " 0,\n",
       " 0,\n",
       " 0,\n",
       " 0,\n",
       " 0,\n",
       " 0,\n",
       " 0,\n",
       " 0,\n",
       " 0,\n",
       " 0,\n",
       " 0,\n",
       " 0,\n",
       " 0,\n",
       " 0,\n",
       " 0,\n",
       " 0,\n",
       " 0,\n",
       " 0,\n",
       " 0,\n",
       " 0,\n",
       " 0,\n",
       " 0,\n",
       " 0,\n",
       " 0,\n",
       " 0,\n",
       " 0,\n",
       " 0,\n",
       " 0,\n",
       " 0,\n",
       " 0,\n",
       " 0,\n",
       " 0,\n",
       " 0,\n",
       " 0,\n",
       " 0,\n",
       " 0,\n",
       " 0,\n",
       " 0,\n",
       " 0,\n",
       " 0,\n",
       " 0,\n",
       " 0,\n",
       " 0,\n",
       " 0,\n",
       " 0,\n",
       " 0,\n",
       " 0,\n",
       " 0,\n",
       " 0,\n",
       " 0,\n",
       " 0,\n",
       " 0]"
      ]
     },
     "execution_count": 93,
     "metadata": {},
     "output_type": "execute_result"
    }
   ],
   "source": [
    "tg_zone_value #\"interpolated value returned. in order. hence can be attached back to dataframe."
   ]
  },
  {
   "cell_type": "markdown",
   "metadata": {},
   "source": [
    "### attach the returned value back to the tg_shp\n",
    "but test we ggot value for each tg zone first "
   ]
  },
  {
   "cell_type": "code",
   "execution_count": 33,
   "metadata": {},
   "outputs": [
    {
     "data": {
      "text/plain": [
       "500"
      ]
     },
     "execution_count": 33,
     "metadata": {},
     "output_type": "execute_result"
    }
   ],
   "source": [
    "len(tg_zone_value) \n",
    "len(tg_shp)\n",
    "## but not really necessary because if the length does not equal,\n",
    "## can't attach the array to the dataframe anyways."
   ]
  },
  {
   "cell_type": "code",
   "execution_count": 34,
   "metadata": {},
   "outputs": [
    {
     "data": {
      "text/plain": [
       "pandas.core.series.Series"
      ]
     },
     "execution_count": 34,
     "metadata": {},
     "output_type": "execute_result"
    }
   ],
   "source": [
    "tg_zone_value #is a weird \n",
    "\n",
    "type(tg_zone_value[1])\n",
    "#tg_zone_value\n"
   ]
  },
  {
   "cell_type": "code",
   "execution_count": 36,
   "metadata": {},
   "outputs": [
    {
     "data": {
      "text/html": [
       "<div>\n",
       "<style>\n",
       "    .dataframe thead tr:only-child th {\n",
       "        text-align: right;\n",
       "    }\n",
       "\n",
       "    .dataframe thead th {\n",
       "        text-align: left;\n",
       "    }\n",
       "\n",
       "    .dataframe tbody tr th {\n",
       "        vertical-align: top;\n",
       "    }\n",
       "</style>\n",
       "<table border=\"1\" class=\"dataframe\">\n",
       "  <thead>\n",
       "    <tr style=\"text-align: right;\">\n",
       "      <th></th>\n",
       "      <th>OA11CD</th>\n",
       "      <th>POPDEN</th>\n",
       "      <th>AvPTAI2015</th>\n",
       "      <th>PTAL</th>\n",
       "      <th>PTAIHigh</th>\n",
       "      <th>PTAILow</th>\n",
       "      <th>geometry</th>\n",
       "      <th>M_W_H_I</th>\n",
       "    </tr>\n",
       "  </thead>\n",
       "  <tbody>\n",
       "    <tr>\n",
       "      <th>0</th>\n",
       "      <td>E00023264</td>\n",
       "      <td>115.2</td>\n",
       "      <td>14.14550</td>\n",
       "      <td>3</td>\n",
       "      <td>18.49880</td>\n",
       "      <td>11.81340</td>\n",
       "      <td>POLYGON ((527635.452 171810.058, 527495.957000...</td>\n",
       "      <td>0    737.0\n",
       "dtype: float64</td>\n",
       "    </tr>\n",
       "    <tr>\n",
       "      <th>1</th>\n",
       "      <td>E00003359</td>\n",
       "      <td>36.7</td>\n",
       "      <td>8.62391</td>\n",
       "      <td>2</td>\n",
       "      <td>9.36629</td>\n",
       "      <td>8.01509</td>\n",
       "      <td>POLYGON ((543581.5159999999 171132.486, 543704...</td>\n",
       "      <td>0    718.0\n",
       "dtype: float64</td>\n",
       "    </tr>\n",
       "    <tr>\n",
       "      <th>2</th>\n",
       "      <td>E00023266</td>\n",
       "      <td>183.4</td>\n",
       "      <td>9.67230</td>\n",
       "      <td>2</td>\n",
       "      <td>11.86470</td>\n",
       "      <td>7.47992</td>\n",
       "      <td>POLYGON ((526613.539 171839.165, 526546.84 171...</td>\n",
       "      <td>0    737.0\n",
       "dtype: float64</td>\n",
       "    </tr>\n",
       "    <tr>\n",
       "      <th>3</th>\n",
       "      <td>E00020264</td>\n",
       "      <td>96.1</td>\n",
       "      <td>65.49460</td>\n",
       "      <td>6b</td>\n",
       "      <td>67.29880</td>\n",
       "      <td>63.62840</td>\n",
       "      <td>POLYGON ((533563.5209999999 179695.146, 533351...</td>\n",
       "      <td>0    589.0\n",
       "dtype: float64</td>\n",
       "    </tr>\n",
       "    <tr>\n",
       "      <th>4</th>\n",
       "      <td>E00023263</td>\n",
       "      <td>165.2</td>\n",
       "      <td>14.65720</td>\n",
       "      <td>3</td>\n",
       "      <td>14.65720</td>\n",
       "      <td>14.65720</td>\n",
       "      <td>POLYGON ((527822 172020, 527979 171903.001, 52...</td>\n",
       "      <td>0    737.0\n",
       "dtype: float64</td>\n",
       "    </tr>\n",
       "  </tbody>\n",
       "</table>\n",
       "</div>"
      ],
      "text/plain": [
       "      OA11CD  POPDEN  AvPTAI2015 PTAL  PTAIHigh   PTAILow  \\\n",
       "0  E00023264   115.2    14.14550    3  18.49880  11.81340   \n",
       "1  E00003359    36.7     8.62391    2   9.36629   8.01509   \n",
       "2  E00023266   183.4     9.67230    2  11.86470   7.47992   \n",
       "3  E00020264    96.1    65.49460   6b  67.29880  63.62840   \n",
       "4  E00023263   165.2    14.65720    3  14.65720  14.65720   \n",
       "\n",
       "                                            geometry  \\\n",
       "0  POLYGON ((527635.452 171810.058, 527495.957000...   \n",
       "1  POLYGON ((543581.5159999999 171132.486, 543704...   \n",
       "2  POLYGON ((526613.539 171839.165, 526546.84 171...   \n",
       "3  POLYGON ((533563.5209999999 179695.146, 533351...   \n",
       "4  POLYGON ((527822 172020, 527979 171903.001, 52...   \n",
       "\n",
       "                     M_W_H_I  \n",
       "0  0    737.0\n",
       "dtype: float64  \n",
       "1  0    718.0\n",
       "dtype: float64  \n",
       "2  0    737.0\n",
       "dtype: float64  \n",
       "3  0    589.0\n",
       "dtype: float64  \n",
       "4  0    737.0\n",
       "dtype: float64  "
      ]
     },
     "execution_count": 36,
     "metadata": {},
     "output_type": "execute_result"
    }
   ],
   "source": [
    "tg_shp[attr_name] = tg_zone_value\n",
    "tg_shp.head()"
   ]
  },
  {
   "cell_type": "markdown",
   "metadata": {},
   "source": [
    "# TESTING individual bits of code (Scratch Paper Starts Here)"
   ]
  },
  {
   "cell_type": "markdown",
   "metadata": {},
   "source": [
    "## Explore geopandas file structure"
   ]
  },
  {
   "cell_type": "code",
   "execution_count": 9,
   "metadata": {},
   "outputs": [
    {
     "data": {
      "text/plain": [
       "0    None\n",
       "1     643\n",
       "2     718\n",
       "3     638\n",
       "4     642\n",
       "Name: M_W_H_I, dtype: object"
      ]
     },
     "execution_count": 9,
     "metadata": {},
     "output_type": "execute_result"
    }
   ],
   "source": [
    "sc_shp.M_W_H_I.head()"
   ]
  },
  {
   "cell_type": "code",
   "execution_count": 28,
   "metadata": {},
   "outputs": [
    {
     "data": {
      "text/plain": [
       "geopandas.geodataframe.GeoDataFrame"
      ]
     },
     "execution_count": 28,
     "metadata": {},
     "output_type": "execute_result"
    }
   ],
   "source": [
    "type(sc_shp.iloc[[2]])"
   ]
  },
  {
   "cell_type": "markdown",
   "metadata": {},
   "source": [
    "#### Calculate area of polygon\n",
    "\n",
    "geopandaName.geometry.area[row number]"
   ]
  },
  {
   "cell_type": "code",
   "execution_count": 11,
   "metadata": {},
   "outputs": [
    {
     "data": {
      "text/plain": [
       "numpy.float64"
      ]
     },
     "execution_count": 11,
     "metadata": {},
     "output_type": "execute_result"
    }
   ],
   "source": [
    "type(sc_shp.geometry.area[2])"
   ]
  },
  {
   "cell_type": "markdown",
   "metadata": {},
   "source": [
    "### geo-series?"
   ]
  },
  {
   "cell_type": "markdown",
   "metadata": {},
   "source": [
    "To access the float value insde the panda.Series"
   ]
  },
  {
   "cell_type": "code",
   "execution_count": 142,
   "metadata": {},
   "outputs": [
    {
     "data": {
      "text/plain": [
       "0    718.0\n",
       "dtype: float64"
      ]
     },
     "execution_count": 142,
     "metadata": {},
     "output_type": "execute_result"
    }
   ],
   "source": [
    "type(tg_zone_value[1])\n",
    "tg_zone_value[1]\n",
    "## ok it doesn't really matter because it is still treated as "
   ]
  },
  {
   "cell_type": "markdown",
   "metadata": {},
   "source": []
  },
  {
   "cell_type": "code",
   "execution_count": 138,
   "metadata": {},
   "outputs": [
    {
     "ename": "AttributeError",
     "evalue": "'int' object has no attribute 'sum'",
     "output_type": "error",
     "traceback": [
      "\u001b[0;31m---------------------------------------------------------------------------\u001b[0m",
      "\u001b[0;31mAttributeError\u001b[0m                            Traceback (most recent call last)",
      "\u001b[0;32m<ipython-input-138-308f3625483b>\u001b[0m in \u001b[0;36m<module>\u001b[0;34m()\u001b[0m\n\u001b[1;32m     13\u001b[0m     \u001b[0;31m# increment tg_zone_value\u001b[0m\u001b[0;34m\u001b[0m\u001b[0;34m\u001b[0m\u001b[0m\n\u001b[1;32m     14\u001b[0m     \u001b[0mvalue\u001b[0m \u001b[0;34m+=\u001b[0m \u001b[0minters_wt\u001b[0m\u001b[0;34m\u001b[0m\u001b[0m\n\u001b[0;32m---> 15\u001b[0;31m     \u001b[0mvalue\u001b[0m\u001b[0;34m.\u001b[0m\u001b[0msum\u001b[0m\u001b[0;34m(\u001b[0m\u001b[0;34m)\u001b[0m\u001b[0;34m\u001b[0m\u001b[0m\n\u001b[0m",
      "\u001b[0;31mAttributeError\u001b[0m: 'int' object has no attribute 'sum'"
     ]
    }
   ],
   "source": [
    "# test_arr=[]\n",
    "value=0 # temporary variable whose value gets overwritten with every i. \n",
    "for j in range(0,len(sc_shp)):\n",
    "    inters=overlay(sc_shp.iloc[[j]],tg_shp.iloc[[5]],how=\"intersection\")\n",
    "\n",
    "    if len(inters) is not 0:\n",
    "      inters_ratio=inters.geometry.area/tg_shp.geometry.area[i]\n",
    "      sc_attr_val=sc_values[j] \n",
    "      inters_wt =inters_ratio*sc_attr_val ## weighted intersection\n",
    "    else:\n",
    "       inters_wt=0 #if not intersecting then sc[j]'s contribution is zero\n",
    "\n",
    "    # increment tg_zone_value\n",
    "    value += inters_wt \n",
    "    value.sum()\n"
   ]
  },
  {
   "cell_type": "code",
   "execution_count": 136,
   "metadata": {},
   "outputs": [
    {
     "data": {
      "text/plain": [
       "pandas.core.series.Series"
      ]
     },
     "execution_count": 136,
     "metadata": {},
     "output_type": "execute_result"
    }
   ],
   "source": [
    "type(value)"
   ]
  },
  {
   "cell_type": "code",
   "execution_count": null,
   "metadata": {
    "collapsed": true
   },
   "outputs": [],
   "source": []
  },
  {
   "cell_type": "markdown",
   "metadata": {},
   "source": [
    "## Explore \"overlap.\" And plotting. "
   ]
  },
  {
   "cell_type": "markdown",
   "metadata": {},
   "source": [
    "#### Intersection"
   ]
  },
  {
   "cell_type": "code",
   "execution_count": 112,
   "metadata": {},
   "outputs": [
    {
     "data": {
      "text/plain": [
       "0    718.0\n",
       "dtype: float64"
      ]
     },
     "execution_count": 112,
     "metadata": {},
     "output_type": "execute_result"
    }
   ],
   "source": [
    "#sc_shp.iloc[[2]]\n",
    "inter2 = overlay(sc_shp.iloc[[2]] , tg_shp[1:2] , how=\"intersection\")\n",
    "# if(inter2 is 0):\n",
    "#     print(\"null\")\n",
    "len(inter2) ## use len() is 0 or not 0 to check if there is overlap at all."
   ]
  },
  {
   "cell_type": "code",
   "execution_count": null,
   "metadata": {
    "collapsed": true
   },
   "outputs": [],
   "source": []
  },
  {
   "cell_type": "code",
   "execution_count": 56,
   "metadata": {
    "collapsed": true
   },
   "outputs": [],
   "source": [
    "# inters = overlay(sc_shp , tg_shp, how=\"intersection\") \n",
    "# inters.dtypes\n",
    "\n",
    "# inters.plot()\n",
    "# plt.show(1) ## ALWAYS REMEMBER TO SHOW THE PLOT. OTHERWISE IT DOESNT SHOW....!!!!!"
   ]
  },
  {
   "cell_type": "markdown",
   "metadata": {},
   "source": [
    "## Analogy to regular panda to familiarize with working with dataframe"
   ]
  },
  {
   "cell_type": "code",
   "execution_count": 133,
   "metadata": {},
   "outputs": [
    {
     "name": "stdout",
     "output_type": "stream",
     "text": [
      "A    1.0\n",
      "B    2.0\n",
      "C    1.0\n",
      "D    0.0\n",
      "Name: 1, dtype: float64\n"
     ]
    }
   ],
   "source": [
    "### analogy to regular panda. basic stuff....\n",
    "\n",
    "s = pd.DataFrame(np.random.randn(8, 4), columns=['A', 'B', 'C', 'D'])\n",
    "s.A[2] ### dataframe.columnName[rowNumber]\n",
    "s.iloc[1] = dict(A=1,B=2,C=1,D=0)\n",
    "print(s.iloc[1]) # okay printed out vertically"
   ]
  },
  {
   "cell_type": "code",
   "execution_count": 88,
   "metadata": {},
   "outputs": [
    {
     "data": {
      "text/html": [
       "<div>\n",
       "<style>\n",
       "    .dataframe thead tr:only-child th {\n",
       "        text-align: right;\n",
       "    }\n",
       "\n",
       "    .dataframe thead th {\n",
       "        text-align: left;\n",
       "    }\n",
       "\n",
       "    .dataframe tbody tr th {\n",
       "        vertical-align: top;\n",
       "    }\n",
       "</style>\n",
       "<table border=\"1\" class=\"dataframe\">\n",
       "  <thead>\n",
       "    <tr style=\"text-align: right;\">\n",
       "      <th></th>\n",
       "      <th>A</th>\n",
       "      <th>B</th>\n",
       "      <th>C</th>\n",
       "      <th>D</th>\n",
       "    </tr>\n",
       "  </thead>\n",
       "  <tbody>\n",
       "    <tr>\n",
       "      <th>0</th>\n",
       "      <td>0.214234</td>\n",
       "      <td>0.57994</td>\n",
       "      <td>0.399016</td>\n",
       "      <td>0.09169</td>\n",
       "    </tr>\n",
       "  </tbody>\n",
       "</table>\n",
       "</div>"
      ],
      "text/plain": [
       "          A        B         C        D\n",
       "0  0.214234  0.57994  0.399016  0.09169"
      ]
     },
     "execution_count": 88,
     "metadata": {},
     "output_type": "execute_result"
    }
   ],
   "source": [
    "#s.head(1)\n",
    "s[0:1] ### the way to slice / return the first row\n",
    "s.iloc[[0]] ### this is a nicer way.."
   ]
  },
  {
   "cell_type": "code",
   "execution_count": 135,
   "metadata": {},
   "outputs": [
    {
     "data": {
      "text/plain": [
       "0    1.541759\n",
       "1    1.000000\n",
       "2   -1.085712\n",
       "3    1.145229\n",
       "4    0.573036\n",
       "5   -0.011416\n",
       "6   -0.226637\n",
       "7   -1.364884\n",
       "Name: A, dtype: float64"
      ]
     },
     "execution_count": 135,
     "metadata": {},
     "output_type": "execute_result"
    }
   ],
   "source": [
    "pd.to_numeric(s['A'])"
   ]
  },
  {
   "cell_type": "markdown",
   "metadata": {},
   "source": [
    "## Array (shamelessly...)"
   ]
  },
  {
   "cell_type": "code",
   "execution_count": 147,
   "metadata": {},
   "outputs": [
    {
     "data": {
      "text/plain": [
       "[1, 2]"
      ]
     },
     "execution_count": 147,
     "metadata": {},
     "output_type": "execute_result"
    }
   ],
   "source": [
    "t=[]\n",
    "t.append(1)\n",
    "t.append(2)\n",
    "t"
   ]
  },
  {
   "cell_type": "code",
   "execution_count": 21,
   "metadata": {},
   "outputs": [
    {
     "name": "stdout",
     "output_type": "stream",
     "text": [
      "This is iteration number: 1\n"
     ]
    }
   ],
   "source": [
    "counter = 1\n",
    "\n",
    "print('This is iteration number: '+ str(counter))"
   ]
  },
  {
   "cell_type": "code",
   "execution_count": null,
   "metadata": {
    "collapsed": true
   },
   "outputs": [],
   "source": []
  }
 ],
 "metadata": {
  "kernelspec": {
   "display_name": "Python 2",
   "language": "python",
   "name": "python2"
  },
  "language_info": {
   "codemirror_mode": {
    "name": "ipython",
    "version": 2
   },
   "file_extension": ".py",
   "mimetype": "text/x-python",
   "name": "python",
   "nbconvert_exporter": "python",
   "pygments_lexer": "ipython2",
   "version": "2.7.13"
  }
 },
 "nbformat": 4,
 "nbformat_minor": 2
}
