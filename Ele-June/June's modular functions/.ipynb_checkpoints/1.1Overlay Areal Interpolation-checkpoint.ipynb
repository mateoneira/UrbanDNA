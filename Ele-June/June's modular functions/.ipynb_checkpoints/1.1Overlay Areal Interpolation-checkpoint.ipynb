{
 "cells": [
  {
   "cell_type": "markdown",
   "metadata": {},
   "source": [
    "## Libraries\n",
    "geopandas may take a while to install. it has to be in python 2.7. ask mateo if there's problem."
   ]
  },
  {
   "cell_type": "code",
   "execution_count": 1,
   "metadata": {
    "collapsed": true
   },
   "outputs": [],
   "source": [
    "import geopandas as gpd\n",
    "import pandas as pd\n",
    "import numpy as np\n",
    "import os\n",
    "import numpy as np\n",
    "import matplotlib.pyplot as plt\n",
    "from geopandas.tools import overlay"
   ]
  },
  {
   "cell_type": "markdown",
   "metadata": {},
   "source": [
    "## Input shapefiles. \n",
    "sc_file is source shapefile with attribute values; tg_file is target shapefile (boundary obtained from amenitiy clusterning, in our case)"
   ]
  },
  {
   "cell_type": "code",
   "execution_count": 2,
   "metadata": {
    "collapsed": true
   },
   "outputs": [],
   "source": [
    "sc_file=\"/Users/June/urbanDNA/Ele-June/June's Data/Migration from R_data/sc_boundary/sc_boundary.shp\"\n",
    "tg_file=\"/Users/June/urbanDNA/Ele-June/June's Data/Migration from R_data/tg_boundary/tg_boundary.shp\"\n",
    "attr_name =\"M_W_H_I\""
   ]
  },
  {
   "cell_type": "code",
   "execution_count": 3,
   "metadata": {},
   "outputs": [
    {
     "ename": "IOError",
     "evalue": "no such file or directory: \"/Users/June/urbanDNA/Ele-June/June's Data/Migration from R_data/sc_boundary/sc_boundary.shp\"",
     "output_type": "error",
     "traceback": [
      "\u001b[0;31m---------------------------------------------------------------------------\u001b[0m",
      "\u001b[0;31mIOError\u001b[0m                                   Traceback (most recent call last)",
      "\u001b[0;32m<ipython-input-3-a04f88137816>\u001b[0m in \u001b[0;36m<module>\u001b[0;34m()\u001b[0m\n\u001b[0;32m----> 1\u001b[0;31m \u001b[0msc_shp\u001b[0m \u001b[0;34m=\u001b[0m \u001b[0mgpd\u001b[0m\u001b[0;34m.\u001b[0m\u001b[0mread_file\u001b[0m\u001b[0;34m(\u001b[0m\u001b[0msc_file\u001b[0m\u001b[0;34m)\u001b[0m\u001b[0;34m\u001b[0m\u001b[0m\n\u001b[0m\u001b[1;32m      2\u001b[0m \u001b[0mtg_shp\u001b[0m \u001b[0;34m=\u001b[0m \u001b[0mgpd\u001b[0m\u001b[0;34m.\u001b[0m\u001b[0mread_file\u001b[0m\u001b[0;34m(\u001b[0m\u001b[0mtg_file\u001b[0m\u001b[0;34m)\u001b[0m\u001b[0;34m\u001b[0m\u001b[0m\n\u001b[1;32m      3\u001b[0m \u001b[0msc_shp\u001b[0m\u001b[0;34m.\u001b[0m\u001b[0mhead\u001b[0m\u001b[0;34m(\u001b[0m\u001b[0;34m)\u001b[0m \u001b[0;31m#M_W_H_I is medium house income attached from census data.\u001b[0m\u001b[0;34m\u001b[0m\u001b[0m\n",
      "\u001b[0;32m/Users/June/anaconda/envs/py27/lib/python2.7/site-packages/geopandas/io/file.pyc\u001b[0m in \u001b[0;36mread_file\u001b[0;34m(filename, **kwargs)\u001b[0m\n\u001b[1;32m     19\u001b[0m     \"\"\"\n\u001b[1;32m     20\u001b[0m     \u001b[0mbbox\u001b[0m \u001b[0;34m=\u001b[0m \u001b[0mkwargs\u001b[0m\u001b[0;34m.\u001b[0m\u001b[0mpop\u001b[0m\u001b[0;34m(\u001b[0m\u001b[0;34m'bbox'\u001b[0m\u001b[0;34m,\u001b[0m \u001b[0mNone\u001b[0m\u001b[0;34m)\u001b[0m\u001b[0;34m\u001b[0m\u001b[0m\n\u001b[0;32m---> 21\u001b[0;31m     \u001b[0;32mwith\u001b[0m \u001b[0mfiona\u001b[0m\u001b[0;34m.\u001b[0m\u001b[0mopen\u001b[0m\u001b[0;34m(\u001b[0m\u001b[0mfilename\u001b[0m\u001b[0;34m,\u001b[0m \u001b[0;34m**\u001b[0m\u001b[0mkwargs\u001b[0m\u001b[0;34m)\u001b[0m \u001b[0;32mas\u001b[0m \u001b[0mf\u001b[0m\u001b[0;34m:\u001b[0m\u001b[0;34m\u001b[0m\u001b[0m\n\u001b[0m\u001b[1;32m     22\u001b[0m         \u001b[0mcrs\u001b[0m \u001b[0;34m=\u001b[0m \u001b[0mf\u001b[0m\u001b[0;34m.\u001b[0m\u001b[0mcrs\u001b[0m\u001b[0;34m\u001b[0m\u001b[0m\n\u001b[1;32m     23\u001b[0m         \u001b[0;32mif\u001b[0m \u001b[0mbbox\u001b[0m \u001b[0;32mis\u001b[0m \u001b[0;32mnot\u001b[0m \u001b[0mNone\u001b[0m\u001b[0;34m:\u001b[0m\u001b[0;34m\u001b[0m\u001b[0m\n",
      "\u001b[0;32m/Users/June/anaconda/envs/py27/lib/python2.7/site-packages/fiona/__init__.pyc\u001b[0m in \u001b[0;36mopen\u001b[0;34m(path, mode, driver, schema, crs, encoding, layer, vfs, enabled_drivers, crs_wkt)\u001b[0m\n\u001b[1;32m    164\u001b[0m                 \u001b[0;32mraise\u001b[0m \u001b[0mIOError\u001b[0m\u001b[0;34m(\u001b[0m\u001b[0;34m\"no such archive file: %r\"\u001b[0m \u001b[0;34m%\u001b[0m \u001b[0marchive\u001b[0m\u001b[0;34m)\u001b[0m\u001b[0;34m\u001b[0m\u001b[0m\n\u001b[1;32m    165\u001b[0m         \u001b[0;32melif\u001b[0m \u001b[0mpath\u001b[0m \u001b[0;34m!=\u001b[0m \u001b[0;34m'-'\u001b[0m \u001b[0;32mand\u001b[0m \u001b[0;32mnot\u001b[0m \u001b[0mos\u001b[0m\u001b[0;34m.\u001b[0m\u001b[0mpath\u001b[0m\u001b[0;34m.\u001b[0m\u001b[0mexists\u001b[0m\u001b[0;34m(\u001b[0m\u001b[0mpath\u001b[0m\u001b[0;34m)\u001b[0m\u001b[0;34m:\u001b[0m\u001b[0;34m\u001b[0m\u001b[0m\n\u001b[0;32m--> 166\u001b[0;31m             \u001b[0;32mraise\u001b[0m \u001b[0mIOError\u001b[0m\u001b[0;34m(\u001b[0m\u001b[0;34m\"no such file or directory: %r\"\u001b[0m \u001b[0;34m%\u001b[0m \u001b[0mpath\u001b[0m\u001b[0;34m)\u001b[0m\u001b[0;34m\u001b[0m\u001b[0m\n\u001b[0m\u001b[1;32m    167\u001b[0m         c = Collection(path, mode, driver=driver, encoding=encoding,\n\u001b[1;32m    168\u001b[0m                        \u001b[0mlayer\u001b[0m\u001b[0;34m=\u001b[0m\u001b[0mlayer\u001b[0m\u001b[0;34m,\u001b[0m \u001b[0mvsi\u001b[0m\u001b[0;34m=\u001b[0m\u001b[0mvsi\u001b[0m\u001b[0;34m,\u001b[0m \u001b[0marchive\u001b[0m\u001b[0;34m=\u001b[0m\u001b[0marchive\u001b[0m\u001b[0;34m,\u001b[0m\u001b[0;34m\u001b[0m\u001b[0m\n",
      "\u001b[0;31mIOError\u001b[0m: no such file or directory: \"/Users/June/urbanDNA/Ele-June/June's Data/Migration from R_data/sc_boundary/sc_boundary.shp\""
     ]
    }
   ],
   "source": [
    "sc_shp = gpd.read_file(sc_file)\n",
    "tg_shp = gpd.read_file(tg_file)\n",
    "sc_shp.head() #M_W_H_I is medium house income attached from census data."
   ]
  },
  {
   "cell_type": "markdown",
   "metadata": {},
   "source": [
    "## Calculation"
   ]
  },
  {
   "cell_type": "code",
   "execution_count": 30,
   "metadata": {
    "collapsed": true
   },
   "outputs": [],
   "source": [
    "sc_values = pd.to_numeric(sc_shp[attr_name])\n",
    "tg_zone_value=[]"
   ]
  },
  {
   "cell_type": "code",
   "execution_count": 31,
   "metadata": {
    "collapsed": true
   },
   "outputs": [],
   "source": [
    "for i in range(0,len(tg_shp)):\n",
    "  value=0 # temporary variable whose value gets overwritten with every i. \n",
    "  for j in range(0,len(sc_shp)):\n",
    "    inters=overlay(sc_shp.iloc[[j]],tg_shp.iloc[[i]],how=\"intersection\")\n",
    "   \n",
    "    if len(inters) is not 0:\n",
    "      inters_ratio=inters.geometry.area/tg_shp.geometry.area[i]\n",
    "      sc_attr_val=sc_values[j] #8 because column 8 is the attribute we need to extract\n",
    "      inters_wt =inters_ratio*sc_attr_val ## weighted intersection\n",
    "    else:\n",
    "       inters_wt=0 #if not intersecting then sc[j]'s contribution is zero\n",
    "    \n",
    "    # increment tg_zone_value\n",
    "    value = value + inters_wt\n",
    "  \n",
    "  \n",
    "  tg_zone_value.append(value)"
   ]
  },
  {
   "cell_type": "code",
   "execution_count": 144,
   "metadata": {},
   "outputs": [
    {
     "data": {
      "text/plain": [
       "0    615.0\n",
       "dtype: float64"
      ]
     },
     "execution_count": 144,
     "metadata": {},
     "output_type": "execute_result"
    }
   ],
   "source": [
    "tg_zone_value [5] #\"interpolated value returned. in order. hence can be attached back to dataframe."
   ]
  },
  {
   "cell_type": "markdown",
   "metadata": {},
   "source": [
    "### attach the returned value back to the tg_shp\n",
    "but test we ggot value for each tg zone first "
   ]
  },
  {
   "cell_type": "code",
   "execution_count": 33,
   "metadata": {},
   "outputs": [
    {
     "data": {
      "text/plain": [
       "500"
      ]
     },
     "execution_count": 33,
     "metadata": {},
     "output_type": "execute_result"
    }
   ],
   "source": [
    "len(tg_zone_value) \n",
    "len(tg_shp)\n",
    "## but not really necessary because if the length does not equal,\n",
    "## can't attach the array to the dataframe anyways."
   ]
  },
  {
   "cell_type": "code",
   "execution_count": 34,
   "metadata": {},
   "outputs": [
    {
     "data": {
      "text/plain": [
       "pandas.core.series.Series"
      ]
     },
     "execution_count": 34,
     "metadata": {},
     "output_type": "execute_result"
    }
   ],
   "source": [
    "tg_zone_value #is a weird \n",
    "\n",
    "type(tg_zone_value[1])\n",
    "#tg_zone_value\n"
   ]
  },
  {
   "cell_type": "code",
   "execution_count": 36,
   "metadata": {},
   "outputs": [
    {
     "data": {
      "text/html": [
       "<div>\n",
       "<style>\n",
       "    .dataframe thead tr:only-child th {\n",
       "        text-align: right;\n",
       "    }\n",
       "\n",
       "    .dataframe thead th {\n",
       "        text-align: left;\n",
       "    }\n",
       "\n",
       "    .dataframe tbody tr th {\n",
       "        vertical-align: top;\n",
       "    }\n",
       "</style>\n",
       "<table border=\"1\" class=\"dataframe\">\n",
       "  <thead>\n",
       "    <tr style=\"text-align: right;\">\n",
       "      <th></th>\n",
       "      <th>OA11CD</th>\n",
       "      <th>POPDEN</th>\n",
       "      <th>AvPTAI2015</th>\n",
       "      <th>PTAL</th>\n",
       "      <th>PTAIHigh</th>\n",
       "      <th>PTAILow</th>\n",
       "      <th>geometry</th>\n",
       "      <th>M_W_H_I</th>\n",
       "    </tr>\n",
       "  </thead>\n",
       "  <tbody>\n",
       "    <tr>\n",
       "      <th>0</th>\n",
       "      <td>E00023264</td>\n",
       "      <td>115.2</td>\n",
       "      <td>14.14550</td>\n",
       "      <td>3</td>\n",
       "      <td>18.49880</td>\n",
       "      <td>11.81340</td>\n",
       "      <td>POLYGON ((527635.452 171810.058, 527495.957000...</td>\n",
       "      <td>0    737.0\n",
       "dtype: float64</td>\n",
       "    </tr>\n",
       "    <tr>\n",
       "      <th>1</th>\n",
       "      <td>E00003359</td>\n",
       "      <td>36.7</td>\n",
       "      <td>8.62391</td>\n",
       "      <td>2</td>\n",
       "      <td>9.36629</td>\n",
       "      <td>8.01509</td>\n",
       "      <td>POLYGON ((543581.5159999999 171132.486, 543704...</td>\n",
       "      <td>0    718.0\n",
       "dtype: float64</td>\n",
       "    </tr>\n",
       "    <tr>\n",
       "      <th>2</th>\n",
       "      <td>E00023266</td>\n",
       "      <td>183.4</td>\n",
       "      <td>9.67230</td>\n",
       "      <td>2</td>\n",
       "      <td>11.86470</td>\n",
       "      <td>7.47992</td>\n",
       "      <td>POLYGON ((526613.539 171839.165, 526546.84 171...</td>\n",
       "      <td>0    737.0\n",
       "dtype: float64</td>\n",
       "    </tr>\n",
       "    <tr>\n",
       "      <th>3</th>\n",
       "      <td>E00020264</td>\n",
       "      <td>96.1</td>\n",
       "      <td>65.49460</td>\n",
       "      <td>6b</td>\n",
       "      <td>67.29880</td>\n",
       "      <td>63.62840</td>\n",
       "      <td>POLYGON ((533563.5209999999 179695.146, 533351...</td>\n",
       "      <td>0    589.0\n",
       "dtype: float64</td>\n",
       "    </tr>\n",
       "    <tr>\n",
       "      <th>4</th>\n",
       "      <td>E00023263</td>\n",
       "      <td>165.2</td>\n",
       "      <td>14.65720</td>\n",
       "      <td>3</td>\n",
       "      <td>14.65720</td>\n",
       "      <td>14.65720</td>\n",
       "      <td>POLYGON ((527822 172020, 527979 171903.001, 52...</td>\n",
       "      <td>0    737.0\n",
       "dtype: float64</td>\n",
       "    </tr>\n",
       "  </tbody>\n",
       "</table>\n",
       "</div>"
      ],
      "text/plain": [
       "      OA11CD  POPDEN  AvPTAI2015 PTAL  PTAIHigh   PTAILow  \\\n",
       "0  E00023264   115.2    14.14550    3  18.49880  11.81340   \n",
       "1  E00003359    36.7     8.62391    2   9.36629   8.01509   \n",
       "2  E00023266   183.4     9.67230    2  11.86470   7.47992   \n",
       "3  E00020264    96.1    65.49460   6b  67.29880  63.62840   \n",
       "4  E00023263   165.2    14.65720    3  14.65720  14.65720   \n",
       "\n",
       "                                            geometry  \\\n",
       "0  POLYGON ((527635.452 171810.058, 527495.957000...   \n",
       "1  POLYGON ((543581.5159999999 171132.486, 543704...   \n",
       "2  POLYGON ((526613.539 171839.165, 526546.84 171...   \n",
       "3  POLYGON ((533563.5209999999 179695.146, 533351...   \n",
       "4  POLYGON ((527822 172020, 527979 171903.001, 52...   \n",
       "\n",
       "                     M_W_H_I  \n",
       "0  0    737.0\n",
       "dtype: float64  \n",
       "1  0    718.0\n",
       "dtype: float64  \n",
       "2  0    737.0\n",
       "dtype: float64  \n",
       "3  0    589.0\n",
       "dtype: float64  \n",
       "4  0    737.0\n",
       "dtype: float64  "
      ]
     },
     "execution_count": 36,
     "metadata": {},
     "output_type": "execute_result"
    }
   ],
   "source": [
    "tg_shp[attr_name] = tg_zone_value\n",
    "tg_shp.head()"
   ]
  },
  {
   "cell_type": "markdown",
   "metadata": {},
   "source": [
    "# TESTING individual bits of code (Scratch Paper Starts Here)"
   ]
  },
  {
   "cell_type": "markdown",
   "metadata": {},
   "source": [
    "## Explore geopandas file structure"
   ]
  },
  {
   "cell_type": "code",
   "execution_count": 9,
   "metadata": {},
   "outputs": [
    {
     "data": {
      "text/plain": [
       "0    None\n",
       "1     643\n",
       "2     718\n",
       "3     638\n",
       "4     642\n",
       "Name: M_W_H_I, dtype: object"
      ]
     },
     "execution_count": 9,
     "metadata": {},
     "output_type": "execute_result"
    }
   ],
   "source": [
    "sc_shp.M_W_H_I.head()"
   ]
  },
  {
   "cell_type": "code",
   "execution_count": 28,
   "metadata": {},
   "outputs": [
    {
     "data": {
      "text/plain": [
       "geopandas.geodataframe.GeoDataFrame"
      ]
     },
     "execution_count": 28,
     "metadata": {},
     "output_type": "execute_result"
    }
   ],
   "source": [
    "type(sc_shp.iloc[[2]])"
   ]
  },
  {
   "cell_type": "markdown",
   "metadata": {},
   "source": [
    "#### Calculate area of polygon\n",
    "\n",
    "geopandaName.geometry.area[row number]"
   ]
  },
  {
   "cell_type": "code",
   "execution_count": 11,
   "metadata": {},
   "outputs": [
    {
     "data": {
      "text/plain": [
       "numpy.float64"
      ]
     },
     "execution_count": 11,
     "metadata": {},
     "output_type": "execute_result"
    }
   ],
   "source": [
    "type(sc_shp.geometry.area[2])"
   ]
  },
  {
   "cell_type": "markdown",
   "metadata": {},
   "source": [
    "### geo-series?"
   ]
  },
  {
   "cell_type": "markdown",
   "metadata": {},
   "source": [
    "To access the float value insde the panda.Series"
   ]
  },
  {
   "cell_type": "code",
   "execution_count": 142,
   "metadata": {},
   "outputs": [
    {
     "data": {
      "text/plain": [
       "0    718.0\n",
       "dtype: float64"
      ]
     },
     "execution_count": 142,
     "metadata": {},
     "output_type": "execute_result"
    }
   ],
   "source": [
    "type(tg_zone_value[1])\n",
    "tg_zone_value[1]\n",
    "## ok it doesn't really matter because it is still treated as "
   ]
  },
  {
   "cell_type": "markdown",
   "metadata": {},
   "source": []
  },
  {
   "cell_type": "code",
   "execution_count": 138,
   "metadata": {},
   "outputs": [
    {
     "ename": "AttributeError",
     "evalue": "'int' object has no attribute 'sum'",
     "output_type": "error",
     "traceback": [
      "\u001b[0;31m---------------------------------------------------------------------------\u001b[0m",
      "\u001b[0;31mAttributeError\u001b[0m                            Traceback (most recent call last)",
      "\u001b[0;32m<ipython-input-138-308f3625483b>\u001b[0m in \u001b[0;36m<module>\u001b[0;34m()\u001b[0m\n\u001b[1;32m     13\u001b[0m     \u001b[0;31m# increment tg_zone_value\u001b[0m\u001b[0;34m\u001b[0m\u001b[0;34m\u001b[0m\u001b[0m\n\u001b[1;32m     14\u001b[0m     \u001b[0mvalue\u001b[0m \u001b[0;34m+=\u001b[0m \u001b[0minters_wt\u001b[0m\u001b[0;34m\u001b[0m\u001b[0m\n\u001b[0;32m---> 15\u001b[0;31m     \u001b[0mvalue\u001b[0m\u001b[0;34m.\u001b[0m\u001b[0msum\u001b[0m\u001b[0;34m(\u001b[0m\u001b[0;34m)\u001b[0m\u001b[0;34m\u001b[0m\u001b[0m\n\u001b[0m",
      "\u001b[0;31mAttributeError\u001b[0m: 'int' object has no attribute 'sum'"
     ]
    }
   ],
   "source": [
    "# test_arr=[]\n",
    "value=0 # temporary variable whose value gets overwritten with every i. \n",
    "for j in range(0,len(sc_shp)):\n",
    "    inters=overlay(sc_shp.iloc[[j]],tg_shp.iloc[[5]],how=\"intersection\")\n",
    "\n",
    "    if len(inters) is not 0:\n",
    "      inters_ratio=inters.geometry.area/tg_shp.geometry.area[i]\n",
    "      sc_attr_val=sc_values[j] \n",
    "      inters_wt =inters_ratio*sc_attr_val ## weighted intersection\n",
    "    else:\n",
    "       inters_wt=0 #if not intersecting then sc[j]'s contribution is zero\n",
    "\n",
    "    # increment tg_zone_value\n",
    "    value += inters_wt \n",
    "    value.sum()\n"
   ]
  },
  {
   "cell_type": "code",
   "execution_count": 136,
   "metadata": {},
   "outputs": [
    {
     "data": {
      "text/plain": [
       "pandas.core.series.Series"
      ]
     },
     "execution_count": 136,
     "metadata": {},
     "output_type": "execute_result"
    }
   ],
   "source": [
    "type(value)"
   ]
  },
  {
   "cell_type": "code",
   "execution_count": null,
   "metadata": {
    "collapsed": true
   },
   "outputs": [],
   "source": []
  },
  {
   "cell_type": "markdown",
   "metadata": {},
   "source": [
    "## Explore \"overlap.\" And plotting. "
   ]
  },
  {
   "cell_type": "markdown",
   "metadata": {},
   "source": [
    "#### Intersection"
   ]
  },
  {
   "cell_type": "code",
   "execution_count": 112,
   "metadata": {},
   "outputs": [
    {
     "data": {
      "text/plain": [
       "0    718.0\n",
       "dtype: float64"
      ]
     },
     "execution_count": 112,
     "metadata": {},
     "output_type": "execute_result"
    }
   ],
   "source": [
    "#sc_shp.iloc[[2]]\n",
    "inter2 = overlay(sc_shp.iloc[[2]] , tg_shp[1:2] , how=\"intersection\")\n",
    "# if(inter2 is 0):\n",
    "#     print(\"null\")\n",
    "len(inter2) ## use len() is 0 or not 0 to check if there is overlap at all."
   ]
  },
  {
   "cell_type": "code",
   "execution_count": null,
   "metadata": {
    "collapsed": true
   },
   "outputs": [],
   "source": []
  },
  {
   "cell_type": "code",
   "execution_count": 56,
   "metadata": {
    "collapsed": true
   },
   "outputs": [],
   "source": [
    "# inters = overlay(sc_shp , tg_shp, how=\"intersection\") \n",
    "# inters.dtypes\n",
    "\n",
    "# inters.plot()\n",
    "# plt.show(1) ## ALWAYS REMEMBER TO SHOW THE PLOT. OTHERWISE IT DOESNT SHOW....!!!!!"
   ]
  },
  {
   "cell_type": "markdown",
   "metadata": {},
   "source": [
    "## Analogy to regular panda to familiarize with working with dataframe"
   ]
  },
  {
   "cell_type": "code",
   "execution_count": 133,
   "metadata": {},
   "outputs": [
    {
     "name": "stdout",
     "output_type": "stream",
     "text": [
      "A    1.0\n",
      "B    2.0\n",
      "C    1.0\n",
      "D    0.0\n",
      "Name: 1, dtype: float64\n"
     ]
    }
   ],
   "source": [
    "### analogy to regular panda. basic stuff....\n",
    "\n",
    "s = pd.DataFrame(np.random.randn(8, 4), columns=['A', 'B', 'C', 'D'])\n",
    "s.A[2] ### dataframe.columnName[rowNumber]\n",
    "s.iloc[1] = dict(A=1,B=2,C=1,D=0)\n",
    "print(s.iloc[1]) # okay printed out vertically"
   ]
  },
  {
   "cell_type": "code",
   "execution_count": 88,
   "metadata": {},
   "outputs": [
    {
     "data": {
      "text/html": [
       "<div>\n",
       "<style>\n",
       "    .dataframe thead tr:only-child th {\n",
       "        text-align: right;\n",
       "    }\n",
       "\n",
       "    .dataframe thead th {\n",
       "        text-align: left;\n",
       "    }\n",
       "\n",
       "    .dataframe tbody tr th {\n",
       "        vertical-align: top;\n",
       "    }\n",
       "</style>\n",
       "<table border=\"1\" class=\"dataframe\">\n",
       "  <thead>\n",
       "    <tr style=\"text-align: right;\">\n",
       "      <th></th>\n",
       "      <th>A</th>\n",
       "      <th>B</th>\n",
       "      <th>C</th>\n",
       "      <th>D</th>\n",
       "    </tr>\n",
       "  </thead>\n",
       "  <tbody>\n",
       "    <tr>\n",
       "      <th>0</th>\n",
       "      <td>0.214234</td>\n",
       "      <td>0.57994</td>\n",
       "      <td>0.399016</td>\n",
       "      <td>0.09169</td>\n",
       "    </tr>\n",
       "  </tbody>\n",
       "</table>\n",
       "</div>"
      ],
      "text/plain": [
       "          A        B         C        D\n",
       "0  0.214234  0.57994  0.399016  0.09169"
      ]
     },
     "execution_count": 88,
     "metadata": {},
     "output_type": "execute_result"
    }
   ],
   "source": [
    "#s.head(1)\n",
    "s[0:1] ### the way to slice / return the first row\n",
    "s.iloc[[0]] ### this is a nicer way.."
   ]
  },
  {
   "cell_type": "code",
   "execution_count": 135,
   "metadata": {},
   "outputs": [
    {
     "data": {
      "text/plain": [
       "0    1.541759\n",
       "1    1.000000\n",
       "2   -1.085712\n",
       "3    1.145229\n",
       "4    0.573036\n",
       "5   -0.011416\n",
       "6   -0.226637\n",
       "7   -1.364884\n",
       "Name: A, dtype: float64"
      ]
     },
     "execution_count": 135,
     "metadata": {},
     "output_type": "execute_result"
    }
   ],
   "source": [
    "pd.to_numeric(s['A'])"
   ]
  },
  {
   "cell_type": "markdown",
   "metadata": {},
   "source": [
    "## Array (shamelessly...)"
   ]
  },
  {
   "cell_type": "code",
   "execution_count": 147,
   "metadata": {},
   "outputs": [
    {
     "data": {
      "text/plain": [
       "[1, 2]"
      ]
     },
     "execution_count": 147,
     "metadata": {},
     "output_type": "execute_result"
    }
   ],
   "source": [
    "t=[]\n",
    "t.append(1)\n",
    "t.append(2)\n",
    "t"
   ]
  }
 ],
 "metadata": {
  "kernelspec": {
   "display_name": "Python 2",
   "language": "python",
   "name": "python2"
  },
  "language_info": {
   "codemirror_mode": {
    "name": "ipython",
    "version": 2
   },
   "file_extension": ".py",
   "mimetype": "text/x-python",
   "name": "python",
   "nbconvert_exporter": "python",
   "pygments_lexer": "ipython2",
   "version": "2.7.13"
  }
 },
 "nbformat": 4,
 "nbformat_minor": 2
}
